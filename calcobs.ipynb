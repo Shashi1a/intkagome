{
 "cells": [
  {
   "cell_type": "code",
   "execution_count": 6,
   "metadata": {},
   "outputs": [],
   "source": [
    "### libraries for the usage\n",
    "import numpy as np \n",
    "import math \n",
    "import sys \n",
    "import pandas as pd \n",
    "import glob\n",
    "from numpy import linalg as lng\n",
    "\n",
    "from modules import Interaction,Files"
   ]
  },
  {
   "cell_type": "markdown",
   "metadata": {},
   "source": [
    "### Number density calculations"
   ]
  },
  {
   "cell_type": "code",
   "execution_count": 30,
   "metadata": {},
   "outputs": [],
   "source": [
    "def intham(mc_kagome):\n",
    "    \"\"\"\n",
    "    Initializing the interacting part of the hamiltonian given the \n",
    "    non-interacting hamiltonian\n",
    "    \"\"\"\n",
    "    for j in range(10):\n",
    "        noint_copy = mc_kagome.ham.copy()\n",
    "        intmat = mc_kagome.intpart(mc_kagome.datadf, noint_copy, j)\n",
    "        evlsi, evcsi = lng.eigh(intmat)\n",
    "\n",
    "\n",
    "def main():\n",
    "    \"\"\"\n",
    "    This is the main program this calls intham subroutine to initialize\n",
    "    the interacting hamiltonian for different monte carlo configurations\n",
    "    \"\"\"\n",
    "    # number of unit cell in x direction\n",
    "    l_cell = int(12)  \n",
    "\n",
    "    # total number of unit cells\n",
    "    n_cell = int(l_cell**2)\n",
    "\n",
    "    # number of sites in the unit cell\n",
    "    s_cell = int(3)  \n",
    "\n",
    "    # total number of site (for one spin type)\n",
    "    n_sites = int(s_cell*n_cell)  \n",
    "    \n",
    "    # hopping strength\n",
    "    hopping = 1.0   \n",
    "\n",
    "    # dimensionality of the matrix\n",
    "    dim_h = int(2*n_sites)\n",
    "\n",
    "    # chemical potential\n",
    "    mu = 13.5  \n",
    "\n",
    "    # interaction strength\n",
    "    u_int = 9.0  \n",
    "\n",
    "    # temperature\n",
    "    temp = 0.03\n",
    "\n",
    "    ## file path were the files are stored\n",
    "    file_path = './'\n",
    "    ## pattern we want to search in the file name\n",
    "    pattern = f'mc*L{l_cell}*Uint{u_int}*.dat'\n",
    "\n",
    "    ## get the file names of files inside the folder\n",
    "    file_dict = Files.getFiles(file_path, pattern)\n",
    "\n",
    "\n",
    "    ### create the object\n",
    "    mc_kagome = Interaction(l_cell, n_cell, s_cell, hopping, n_sites,\n",
    "                            dim_h, mu, u_int)\n",
    "\n",
    "\n",
    "    ### get data for each temperature into a dataframe\n",
    "    datadf = mc_kagome.datadf(temp, file_dict)\n",
    "    datadf['temp'] = temp\n",
    "    mc_kagome.datadf = datadf\n",
    "    ### set up the non-interacting hamiltonian\n",
    "    mc_kagome.neighbour()  # set up the neighbour table\n",
    "\n",
    "    ## initialize the non interacting hamiltonian\n",
    "    ## ham is the non-interacting hamiltonian\n",
    "    mc_kagome.haminit()\n",
    "    intham(mc_kagome)\n",
    "\n",
    "   "
   ]
  },
  {
   "cell_type": "code",
   "execution_count": 31,
   "metadata": {},
   "outputs": [
    {
     "name": "stdout",
     "output_type": "stream",
     "text": [
      "144 432\n"
     ]
    }
   ],
   "source": [
    "if __name__==\"__main__\":\n",
    "    main()\n",
    "    "
   ]
  },
  {
   "cell_type": "code",
   "execution_count": null,
   "metadata": {},
   "outputs": [],
   "source": []
  },
  {
   "cell_type": "code",
   "execution_count": null,
   "metadata": {},
   "outputs": [],
   "source": []
  },
  {
   "cell_type": "code",
   "execution_count": null,
   "metadata": {},
   "outputs": [],
   "source": []
  }
 ],
 "metadata": {
  "interpreter": {
   "hash": "142c5f550c5dca9f67c8c920311c6ac8b8cbcb1ffb5f20302b2d142b28b10006"
  },
  "kernelspec": {
   "display_name": "Python 3.8.6 ('python38-demo-v2')",
   "language": "python",
   "name": "python3"
  },
  "language_info": {
   "codemirror_mode": {
    "name": "ipython",
    "version": 3
   },
   "file_extension": ".py",
   "mimetype": "text/x-python",
   "name": "python",
   "nbconvert_exporter": "python",
   "pygments_lexer": "ipython3",
   "version": "3.8.6"
  },
  "orig_nbformat": 4
 },
 "nbformat": 4,
 "nbformat_minor": 2
}
