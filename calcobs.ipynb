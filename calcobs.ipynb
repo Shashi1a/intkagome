{
 "cells": [
  {
   "cell_type": "code",
   "execution_count": 60,
   "metadata": {},
   "outputs": [],
   "source": [
    "### libraries for the usage\n",
    "import numpy as np \n",
    "import math \n",
    "import sys \n",
    "import pandas as pd \n",
    "import glob\n",
    "from numpy import linalg as lng\n",
    "import seaborn as sns\n",
    "from modules import Interaction,Files,Observable\n",
    "import matplotlib.pyplot as plt"
   ]
  },
  {
   "cell_type": "markdown",
   "metadata": {},
   "source": [
    "### Number density calculations"
   ]
  },
  {
   "cell_type": "code",
   "execution_count": 61,
   "metadata": {},
   "outputs": [],
   "source": [
    "#def intham(mc_kagome,temp):\n",
    "\"\"\"\n",
    "    Initializing the interacting part of the hamiltonian given the \n",
    "    non-interacting hamiltonian\n",
    "\"\"\"\n",
    "#    for j in range(10):\n",
    "#        noint_copy = mc_kagome.ham.copy()\n",
    "#        intmat = mc_kagome.intpart(mc_kagome.datadf, noint_copy, j)\n",
    " #       evlsi, evcsi = lng.eigh(intmat)\n",
    "  #      observ = Observable(evlsi,evcsi,temp)\n",
    "  #      be = observ.fermiFunc()\n",
    "   #     observ.feCe(4)\n",
    "    #    print(observ.n)\n",
    "\n",
    "#def main():\n",
    "\"\"\"\n",
    "This is the main program this calls intham subroutine to initialize\n",
    "the interacting hamiltonian for different monte carlo configurations\n",
    "\"\"\"\n",
    "\n",
    "#def init_param():\n",
    "# number of unit cell in x direction\n",
    "l_cell = int(12)  \n",
    "\n",
    "# total number of unit cells\n",
    "n_cell = int(l_cell**2)\n",
    "\n",
    "# number of sites in the unit cell\n",
    "s_cell = int(3)  \n",
    "\n",
    "# total number of site (for one spin type)\n",
    "n_sites = int(s_cell*n_cell)  \n",
    "\n",
    "# hopping strength\n",
    "hopping = 1.0   \n",
    "\n",
    "# dimensionality of the matrix\n",
    "dim_h = int(2*n_sites)\n",
    "\n",
    "# chemical potential\n",
    "mu = 13.47\n",
    "\n",
    "# interaction strength\n",
    "u_int = 9.0  \n",
    "\n",
    "# temperature\n",
    "temp = 0.30\n",
    "\n",
    "## file path were the files are stored\n",
    "file_path = './'\n",
    "## pattern we want to search in the file name\n",
    "pattern = f'mc*L{l_cell}*Uint{u_int}*.dat'\n",
    "\n",
    "## get the file names of files inside the folder\n",
    "file_dict = Files.getFiles(file_path, pattern)\n",
    "\n",
    "\n",
    "### create the object\n",
    "mc_kagome = Interaction(l_cell, n_cell, s_cell, hopping, n_sites,\n",
    "                        dim_h, mu, u_int)\n",
    "\n",
    "\n",
    "### set up the non-interacting hamiltonian\n",
    "mc_kagome.neighbour()  # set up the neighbour table\n",
    "mc_kagome.haminit() # set the non interacting hamiltonian\n",
    "\n",
    "###generate mx,my,mx given m,theta,phi\n",
    "datadf = mc_kagome.datadf(temp, file_dict)\n",
    "datadf['temp'] = temp\n",
    "\n",
    "## initialize the non interacting hamiltonian\n",
    "## ham is the non-interacting hamiltonian\n",
    "\n",
    "## initializing an empty dataframe to store eigenvalue for all the \n",
    "## monte carlo configurations\n",
    "eval_df = pd.DataFrame()\n",
    "fermi_func = pd.DataFrame()\n",
    "density_df = pd.DataFrame()\n",
    "n_d = []\n",
    "for j in range(5):\n",
    "    nointmat = mc_kagome.ham.copy()\n",
    "\n",
    "    mat = mc_kagome.intpart(datadf,nointmat,j)\n",
    "    evls,evec = lng.eigh(mat)\n",
    "    eval_df = pd.concat([eval_df,pd.Series(evls,name=f'conf{j}')],axis=1)\n",
    "\n",
    "    density = Observable(temp,evls,evec)\n",
    "    \n",
    "    density.fermiFunc()\n",
    "    fermi_func = pd.concat([fermi_func,pd.Series(density.be/(1+density.be),name=f'conf{j}')],axis=1)\n",
    "    density.n_sites = mc_kagome.n_sites\n",
    "    n_di = []\n",
    "    for k in range(density.n_sites):\n",
    "        density.densitycalc(k)\n",
    "        n_di.append(density.n.real)\n",
    "    density_df = pd.concat([density_df,pd.Series(n_di,name=f'conf{j}')],axis=1)\n",
    "\n",
    "#if __name__ == \"__main__\":\n",
    "#   main()\n",
    "\n",
    "\n",
    "#init_param()\n"
   ]
  },
  {
   "cell_type": "code",
   "execution_count": 62,
   "metadata": {},
   "outputs": [
    {
     "data": {
      "text/html": [
       "<div>\n",
       "<style scoped>\n",
       "    .dataframe tbody tr th:only-of-type {\n",
       "        vertical-align: middle;\n",
       "    }\n",
       "\n",
       "    .dataframe tbody tr th {\n",
       "        vertical-align: top;\n",
       "    }\n",
       "\n",
       "    .dataframe thead th {\n",
       "        text-align: right;\n",
       "    }\n",
       "</style>\n",
       "<table border=\"1\" class=\"dataframe\">\n",
       "  <thead>\n",
       "    <tr style=\"text-align: right;\">\n",
       "      <th></th>\n",
       "      <th>conf0</th>\n",
       "      <th>conf1</th>\n",
       "      <th>conf2</th>\n",
       "      <th>conf3</th>\n",
       "      <th>conf4</th>\n",
       "    </tr>\n",
       "  </thead>\n",
       "  <tbody>\n",
       "    <tr>\n",
       "      <th>count</th>\n",
       "      <td>432.000000</td>\n",
       "      <td>432.000000</td>\n",
       "      <td>432.000000</td>\n",
       "      <td>432.000000</td>\n",
       "      <td>432.000000</td>\n",
       "    </tr>\n",
       "    <tr>\n",
       "      <th>mean</th>\n",
       "      <td>0.510657</td>\n",
       "      <td>0.510268</td>\n",
       "      <td>0.509197</td>\n",
       "      <td>0.506809</td>\n",
       "      <td>0.506809</td>\n",
       "    </tr>\n",
       "    <tr>\n",
       "      <th>std</th>\n",
       "      <td>0.091067</td>\n",
       "      <td>0.094118</td>\n",
       "      <td>0.094228</td>\n",
       "      <td>0.094943</td>\n",
       "      <td>0.094943</td>\n",
       "    </tr>\n",
       "    <tr>\n",
       "      <th>min</th>\n",
       "      <td>0.154937</td>\n",
       "      <td>0.154945</td>\n",
       "      <td>0.154909</td>\n",
       "      <td>0.155312</td>\n",
       "      <td>0.155312</td>\n",
       "    </tr>\n",
       "    <tr>\n",
       "      <th>25%</th>\n",
       "      <td>0.471846</td>\n",
       "      <td>0.469908</td>\n",
       "      <td>0.469926</td>\n",
       "      <td>0.469688</td>\n",
       "      <td>0.469688</td>\n",
       "    </tr>\n",
       "    <tr>\n",
       "      <th>50%</th>\n",
       "      <td>0.506157</td>\n",
       "      <td>0.506320</td>\n",
       "      <td>0.505122</td>\n",
       "      <td>0.502533</td>\n",
       "      <td>0.502533</td>\n",
       "    </tr>\n",
       "    <tr>\n",
       "      <th>75%</th>\n",
       "      <td>0.545725</td>\n",
       "      <td>0.547803</td>\n",
       "      <td>0.546225</td>\n",
       "      <td>0.541506</td>\n",
       "      <td>0.541506</td>\n",
       "    </tr>\n",
       "    <tr>\n",
       "      <th>max</th>\n",
       "      <td>0.918719</td>\n",
       "      <td>0.918719</td>\n",
       "      <td>0.918719</td>\n",
       "      <td>0.918720</td>\n",
       "      <td>0.918720</td>\n",
       "    </tr>\n",
       "  </tbody>\n",
       "</table>\n",
       "</div>"
      ],
      "text/plain": [
       "            conf0       conf1       conf2       conf3       conf4\n",
       "count  432.000000  432.000000  432.000000  432.000000  432.000000\n",
       "mean     0.510657    0.510268    0.509197    0.506809    0.506809\n",
       "std      0.091067    0.094118    0.094228    0.094943    0.094943\n",
       "min      0.154937    0.154945    0.154909    0.155312    0.155312\n",
       "25%      0.471846    0.469908    0.469926    0.469688    0.469688\n",
       "50%      0.506157    0.506320    0.505122    0.502533    0.502533\n",
       "75%      0.545725    0.547803    0.546225    0.541506    0.541506\n",
       "max      0.918719    0.918719    0.918719    0.918720    0.918720"
      ]
     },
     "execution_count": 62,
     "metadata": {},
     "output_type": "execute_result"
    }
   ],
   "source": [
    "density_df.describe()"
   ]
  },
  {
   "cell_type": "code",
   "execution_count": 63,
   "metadata": {},
   "outputs": [
    {
     "data": {
      "text/plain": [
       "conf0    0.510657\n",
       "conf1    0.510268\n",
       "conf2    0.509197\n",
       "conf3    0.506809\n",
       "conf4    0.506809\n",
       "dtype: float64"
      ]
     },
     "execution_count": 63,
     "metadata": {},
     "output_type": "execute_result"
    }
   ],
   "source": [
    "density_df.mean()"
   ]
  },
  {
   "cell_type": "code",
   "execution_count": 59,
   "metadata": {},
   "outputs": [
    {
     "data": {
      "image/png": "[encoded data removed]",
      "text/plain": [
       "<Figure size 864x576 with 6 Axes>"
      ]
     },
     "metadata": {
      "needs_background": "light"
     },
     "output_type": "display_data"
    }
   ],
   "source": [
    "density_df.plot(kind='density',figsize=(12,8),subplots=True, \\\n",
    "                layout=(3, 2), alpha=0.5, xlabel='n', ylabel='H(n)',sharex=False)\n",
    "\n",
    "plt.show()\n"
   ]
  },
  {
   "cell_type": "code",
   "execution_count": 22,
   "metadata": {},
   "outputs": [
    {
     "data": {
      "image/png": "[encoded data removed]",
      "text/plain": [
       "<Figure size 432x288 with 1 Axes>"
      ]
     },
     "metadata": {
      "needs_background": "light"
     },
     "output_type": "display_data"
    }
   ],
   "source": [
    "def plotFermifunc(dffermi,df_enr,t=5):\n",
    "    f=plt.figure()\n",
    "    for j in range(t):\n",
    "        plt.plot(df_enr.iloc[:,j],dffermi.iloc[:,j],label=f'conf {j}')\n",
    "    plt.axvline(x=0,color='black',linestyle='--')\n",
    "    plt.xlabel(r'$\\epsilon$',fontsize=20)\n",
    "    plt.ylabel(r'$f_{\\epsilon}$',fontsize=20)\n",
    "    plt.legend()\n",
    "    plt.show()\n",
    "plotFermifunc(fermi_func,eval_df,4)"
   ]
  },
  {
   "cell_type": "markdown",
   "metadata": {},
   "source": [
    "### Density of states\n",
    "Density of states can be obtained simply by storing all the eigenvalues for different configurations into a dataframe. The dataframe can be converted into a series by concatenating each column to the series. A histogram of the data will give the density of states.\n"
   ]
  },
  {
   "cell_type": "code",
   "execution_count": 23,
   "metadata": {},
   "outputs": [],
   "source": [
    "def enrConcat(df):\n",
    "    \"\"\"\n",
    "    This function will take a dataframe as an input and give a 1d series of all the energies\n",
    "    parameters:\n",
    "        df(dataframe): dataframe with energy for different configuration as column\n",
    "    return:\n",
    "        allenr(series): all the energies into a series\n",
    "    \"\"\"\n",
    "    allenr = pd.Series(dtype='float')\n",
    "    for j in eval_df.columns:\n",
    "        allenr = pd.concat([allenr,df.loc[:,j]])\n",
    "    return allenr\n",
    "allenr = enrConcat(eval_df)"
   ]
  },
  {
   "cell_type": "code",
   "execution_count": 24,
   "metadata": {},
   "outputs": [
    {
     "data": {
      "image/png": "[encoded data removed]",
      "text/plain": [
       "<Figure size 360x360 with 1 Axes>"
      ]
     },
     "metadata": {
      "needs_background": "light"
     },
     "output_type": "display_data"
    }
   ],
   "source": [
    "sns.displot(allenr,kde=True,stat='density',bins=50)\n",
    "plt.xlabel('E',fontsize=18)\n",
    "plt.label('P(E)',fontsize=18)\n",
    "\n",
    "plt.show()"
   ]
  },
  {
   "cell_type": "code",
   "execution_count": null,
   "metadata": {},
   "outputs": [],
   "source": []
  }
 ],
 "metadata": {
  "interpreter": {
   "hash": "47b88c5e2a9ab33eee56cb1f27361770b8d297179cf0eb7fbe5f4a32a1ba153d"
  },
  "kernelspec": {
   "display_name": "Python 3.8.2 ('ml_env')",
   "language": "python",
   "name": "python3"
  },
  "language_info": {
   "codemirror_mode": {
    "name": "ipython",
    "version": 3
   },
   "file_extension": ".py",
   "mimetype": "text/x-python",
   "name": "python",
   "nbconvert_exporter": "python",
   "pygments_lexer": "ipython3",
   "version": "3.8.2"
  },
  "orig_nbformat": 4
 },
 "nbformat": 4,
 "nbformat_minor": 2
}
