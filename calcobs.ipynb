{
 "cells": [
  {
   "cell_type": "code",
   "execution_count": 1,
   "metadata": {},
   "outputs": [],
   "source": [
    "### libraries for the usage\n",
    "import numpy as np \n",
    "import math \n",
    "import sys \n",
    "import pandas as pd \n",
    "import glob\n",
    "from numpy import linalg as lng\n",
    "\n",
    "from modules import Interaction,Files,Observable"
   ]
  },
  {
   "cell_type": "markdown",
   "metadata": {},
   "source": [
    "### Number density calculations"
   ]
  },
  {
   "cell_type": "code",
   "execution_count": 4,
   "metadata": {},
   "outputs": [],
   "source": [
    "def intham(mc_kagome,temp):\n",
    "    \"\"\"\n",
    "    Initializing the interacting part of the hamiltonian given the \n",
    "    non-interacting hamiltonian\n",
    "    \"\"\"\n",
    "    for j in range(10):\n",
    "        noint_copy = mc_kagome.ham.copy()\n",
    "        intmat = mc_kagome.intpart(mc_kagome.datadf, noint_copy, j)\n",
    "        evlsi, evcsi = lng.eigh(intmat)\n",
    "        observ = Observable(evlsi,evcsi,temp)\n",
    "        be = observ.fermiFunc()\n",
    "        observ.feCe(4)\n",
    "        print(observ.n)\n",
    "\n",
    "def main():\n",
    "    \"\"\"\n",
    "    This is the main program this calls intham subroutine to initialize\n",
    "    the interacting hamiltonian for different monte carlo configurations\n",
    "    \"\"\"\n",
    "    # number of unit cell in x direction\n",
    "    l_cell = int(12)  \n",
    "\n",
    "    # total number of unit cells\n",
    "    n_cell = int(l_cell**2)\n",
    "\n",
    "    # number of sites in the unit cell\n",
    "    s_cell = int(3)  \n",
    "\n",
    "    # total number of site (for one spin type)\n",
    "    n_sites = int(s_cell*n_cell)  \n",
    "    \n",
    "    # hopping strength\n",
    "    hopping = 1.0   \n",
    "\n",
    "    # dimensionality of the matrix\n",
    "    dim_h = int(2*n_sites)\n",
    "\n",
    "    # chemical potential\n",
    "    mu = 13.5  \n",
    "\n",
    "    # interaction strength\n",
    "    u_int = 9.0  \n",
    "\n",
    "    # temperature\n",
    "    temp = 0.03\n",
    "\n",
    "    ## file path were the files are stored\n",
    "    file_path = './'\n",
    "    ## pattern we want to search in the file name\n",
    "    pattern = f'mc*L{l_cell}*Uint{u_int}*.dat'\n",
    "\n",
    "    ## get the file names of files inside the folder\n",
    "    file_dict = Files.getFiles(file_path, pattern)\n",
    "\n",
    "\n",
    "    ### create the object\n",
    "    mc_kagome = Interaction(l_cell, n_cell, s_cell, hopping, n_sites,\n",
    "                            dim_h, mu, u_int)\n",
    "\n",
    "\n",
    "    ### get data for each temperature into a dataframe\n",
    "    datadf = mc_kagome.datadf(temp, file_dict)\n",
    "    datadf['temp'] = temp\n",
    "    mc_kagome.datadf = datadf\n",
    "    ### set up the non-interacting hamiltonian\n",
    "    mc_kagome.neighbour()  # set up the neighbour table\n",
    "\n",
    "    ## initialize the non interacting hamiltonian\n",
    "    ## ham is the non-interacting hamiltonian\n",
    "    mc_kagome.haminit()\n",
    "    intham(mc_kagome,temp)\n",
    "\n",
    "   "
   ]
  },
  {
   "cell_type": "code",
   "execution_count": 5,
   "metadata": {},
   "outputs": [
    {
     "name": "stdout",
     "output_type": "stream",
     "text": [
      "144 432\n"
     ]
    },
    {
     "ename": "TypeError",
     "evalue": "'float' object is not subscriptable",
     "output_type": "error",
     "traceback": [
      "\u001b[0;31m---------------------------------------------------------------------------\u001b[0m",
      "\u001b[0;31mTypeError\u001b[0m                                 Traceback (most recent call last)",
      "\u001b[0;32m<ipython-input-5-f3871deae95d>\u001b[0m in \u001b[0;36m<module>\u001b[0;34m\u001b[0m\n\u001b[1;32m      1\u001b[0m \u001b[0;32mif\u001b[0m \u001b[0m__name__\u001b[0m\u001b[0;34m==\u001b[0m\u001b[0;34m\"__main__\"\u001b[0m\u001b[0;34m:\u001b[0m\u001b[0;34m\u001b[0m\u001b[0;34m\u001b[0m\u001b[0m\n\u001b[0;32m----> 2\u001b[0;31m     \u001b[0mmain\u001b[0m\u001b[0;34m(\u001b[0m\u001b[0;34m)\u001b[0m\u001b[0;34m\u001b[0m\u001b[0;34m\u001b[0m\u001b[0m\n\u001b[0m\u001b[1;32m      3\u001b[0m \u001b[0;34m\u001b[0m\u001b[0m\n",
      "\u001b[0;32m<ipython-input-4-e654e5b463c7>\u001b[0m in \u001b[0;36mmain\u001b[0;34m()\u001b[0m\n\u001b[1;32m     69\u001b[0m     \u001b[0;31m## ham is the non-interacting hamiltonian\u001b[0m\u001b[0;34m\u001b[0m\u001b[0;34m\u001b[0m\u001b[0;34m\u001b[0m\u001b[0m\n\u001b[1;32m     70\u001b[0m     \u001b[0mmc_kagome\u001b[0m\u001b[0;34m.\u001b[0m\u001b[0mhaminit\u001b[0m\u001b[0;34m(\u001b[0m\u001b[0;34m)\u001b[0m\u001b[0;34m\u001b[0m\u001b[0;34m\u001b[0m\u001b[0m\n\u001b[0;32m---> 71\u001b[0;31m     \u001b[0mintham\u001b[0m\u001b[0;34m(\u001b[0m\u001b[0mmc_kagome\u001b[0m\u001b[0;34m,\u001b[0m\u001b[0mtemp\u001b[0m\u001b[0;34m)\u001b[0m\u001b[0;34m\u001b[0m\u001b[0;34m\u001b[0m\u001b[0m\n\u001b[0m\u001b[1;32m     72\u001b[0m \u001b[0;34m\u001b[0m\u001b[0m\n\u001b[1;32m     73\u001b[0m \u001b[0;34m\u001b[0m\u001b[0m\n",
      "\u001b[0;32m<ipython-input-4-e654e5b463c7>\u001b[0m in \u001b[0;36mintham\u001b[0;34m(mc_kagome, temp)\u001b[0m\n\u001b[1;32m     10\u001b[0m         \u001b[0mobserv\u001b[0m \u001b[0;34m=\u001b[0m \u001b[0mObservable\u001b[0m\u001b[0;34m(\u001b[0m\u001b[0mevlsi\u001b[0m\u001b[0;34m,\u001b[0m\u001b[0mevcsi\u001b[0m\u001b[0;34m,\u001b[0m\u001b[0mtemp\u001b[0m\u001b[0;34m)\u001b[0m\u001b[0;34m\u001b[0m\u001b[0;34m\u001b[0m\u001b[0m\n\u001b[1;32m     11\u001b[0m         \u001b[0mbe\u001b[0m \u001b[0;34m=\u001b[0m \u001b[0mobserv\u001b[0m\u001b[0;34m.\u001b[0m\u001b[0mfermiFunc\u001b[0m\u001b[0;34m(\u001b[0m\u001b[0;34m)\u001b[0m\u001b[0;34m\u001b[0m\u001b[0;34m\u001b[0m\u001b[0m\n\u001b[0;32m---> 12\u001b[0;31m         \u001b[0mobserv\u001b[0m\u001b[0;34m.\u001b[0m\u001b[0mfeCe\u001b[0m\u001b[0;34m(\u001b[0m\u001b[0;36m4\u001b[0m\u001b[0;34m)\u001b[0m\u001b[0;34m\u001b[0m\u001b[0;34m\u001b[0m\u001b[0m\n\u001b[0m\u001b[1;32m     13\u001b[0m         \u001b[0mprint\u001b[0m\u001b[0;34m(\u001b[0m\u001b[0mobserv\u001b[0m\u001b[0;34m.\u001b[0m\u001b[0mn\u001b[0m\u001b[0;34m)\u001b[0m\u001b[0;34m\u001b[0m\u001b[0;34m\u001b[0m\u001b[0m\n\u001b[1;32m     14\u001b[0m \u001b[0;34m\u001b[0m\u001b[0m\n",
      "\u001b[0;32m~/Desktop/intkagome/modules.py\u001b[0m in \u001b[0;36mfeCe\u001b[0;34m(self, j)\u001b[0m\n\u001b[1;32m    407\u001b[0m             \u001b[0;32mNone\u001b[0m\u001b[0;34m\u001b[0m\u001b[0;34m\u001b[0m\u001b[0m\n\u001b[1;32m    408\u001b[0m         \"\"\"\n\u001b[0;32m--> 409\u001b[0;31m         \u001b[0mpsi\u001b[0m  \u001b[0;34m=\u001b[0m \u001b[0mself\u001b[0m\u001b[0;34m.\u001b[0m\u001b[0megvec\u001b[0m\u001b[0;34m[\u001b[0m\u001b[0;34m:\u001b[0m\u001b[0;34m,\u001b[0m\u001b[0mj\u001b[0m\u001b[0;34m]\u001b[0m\u001b[0;34m\u001b[0m\u001b[0;34m\u001b[0m\u001b[0m\n\u001b[0m\u001b[1;32m    410\u001b[0m         \u001b[0mpsi2up\u001b[0m \u001b[0;34m=\u001b[0m \u001b[0mnp\u001b[0m\u001b[0;34m.\u001b[0m\u001b[0mconjugate\u001b[0m\u001b[0;34m(\u001b[0m\u001b[0mpsi\u001b[0m\u001b[0;34m[\u001b[0m\u001b[0;34m:\u001b[0m\u001b[0mself\u001b[0m\u001b[0;34m.\u001b[0m\u001b[0mn_sites\u001b[0m\u001b[0;34m]\u001b[0m\u001b[0;34m)\u001b[0m\u001b[0;34m*\u001b[0m\u001b[0mpsi\u001b[0m\u001b[0;34m[\u001b[0m\u001b[0;34m:\u001b[0m\u001b[0mself\u001b[0m\u001b[0;34m.\u001b[0m\u001b[0mn_sites\u001b[0m\u001b[0;34m]\u001b[0m\u001b[0;34m\u001b[0m\u001b[0;34m\u001b[0m\u001b[0m\n\u001b[1;32m    411\u001b[0m         \u001b[0mpsi2dn\u001b[0m \u001b[0;34m=\u001b[0m \u001b[0mnp\u001b[0m\u001b[0;34m.\u001b[0m\u001b[0mconjugate\u001b[0m\u001b[0;34m(\u001b[0m\u001b[0mpsi\u001b[0m\u001b[0;34m[\u001b[0m\u001b[0mself\u001b[0m\u001b[0;34m.\u001b[0m\u001b[0mn_sites\u001b[0m\u001b[0;34m:\u001b[0m\u001b[0;34m]\u001b[0m\u001b[0;34m)\u001b[0m\u001b[0;34m*\u001b[0m\u001b[0mpsi\u001b[0m\u001b[0;34m[\u001b[0m\u001b[0mself\u001b[0m\u001b[0;34m.\u001b[0m\u001b[0mn_sites\u001b[0m\u001b[0;34m:\u001b[0m\u001b[0;34m]\u001b[0m\u001b[0;34m\u001b[0m\u001b[0;34m\u001b[0m\u001b[0m\n",
      "\u001b[0;31mTypeError\u001b[0m: 'float' object is not subscriptable"
     ]
    }
   ],
   "source": [
    "if __name__==\"__main__\":\n",
    "    main()\n",
    "    "
   ]
  },
  {
   "cell_type": "code",
   "execution_count": null,
   "metadata": {},
   "outputs": [],
   "source": []
  },
  {
   "cell_type": "code",
   "execution_count": null,
   "metadata": {},
   "outputs": [],
   "source": []
  },
  {
   "cell_type": "code",
   "execution_count": null,
   "metadata": {},
   "outputs": [],
   "source": []
  }
 ],
 "metadata": {
  "interpreter": {
   "hash": "142c5f550c5dca9f67c8c920311c6ac8b8cbcb1ffb5f20302b2d142b28b10006"
  },
  "kernelspec": {
   "display_name": "Python 3.8.6 ('python38-demo-v2')",
   "language": "python",
   "name": "python3"
  },
  "language_info": {
   "codemirror_mode": {
    "name": "ipython",
    "version": 3
   },
   "file_extension": ".py",
   "mimetype": "text/x-python",
   "name": "python",
   "nbconvert_exporter": "python",
   "pygments_lexer": "ipython3",
   "version": "3.8.6"
  },
  "orig_nbformat": 4
 },
 "nbformat": 4,
 "nbformat_minor": 2
}
