{
 "cells": [
  {
   "cell_type": "markdown",
   "metadata": {},
   "source": [
    "### Kagome lattice"
   ]
  },
  {
   "cell_type": "code",
   "execution_count": 117,
   "metadata": {},
   "outputs": [],
   "source": [
    "import numpy as np\n",
    "import numpy.linalg as lng\n",
    "import matplotlib.pyplot as plt\n",
    "import pandas as pd\n",
    "import seaborn as sns"
   ]
  },
  {
   "cell_type": "code",
   "execution_count": 89,
   "metadata": {},
   "outputs": [],
   "source": [
    "l_cell = 20\n",
    "n_cell = l_cell**2\n",
    "n_sites = 3*n_cell\n",
    "hopping = 1.0 "
   ]
  },
  {
   "cell_type": "code",
   "execution_count": 90,
   "metadata": {},
   "outputs": [],
   "source": [
    "### class to define the hamiltonian\n",
    "class lattice:\n",
    "    def __init__(self,l_cell,n_cell,hopping,n_sites):\n",
    "        '''\n",
    "        This function will initialize the object and set the\n",
    "        parameters:\n",
    "        parameters:\n",
    "            self(object): object\n",
    "            l_cell(int):  number of unit cell\n",
    "            n_cell(int): total number of unit cells\n",
    "            hopping(float): nn nearest neighbour hopping\n",
    "        '''\n",
    "        self.l_cell = l_cell\n",
    "        self.n_cell = n_cell\n",
    "        self.hopping = hopping\n",
    "        self.n_sites = n_sites\n",
    "    \n",
    "    ## this function will create the square lattice for \n",
    "    ## the unit cells\n",
    "    def neighbour(self):\n",
    "        '''\n",
    "        This function will create the neighbour table with\n",
    "        periodic boundary conditions\n",
    "        parameters:\n",
    "            None\n",
    "        return:\n",
    "            None\n",
    "        '''\n",
    "        sip = lambda x:(x+1)%self.l_cell\n",
    "        sim = lambda x:(x-1+self.l_cell)%self.l_cell\n",
    "        ri , li , ui , di,rui,dli = [],[],[],[],[],[]\n",
    "        for j in range(n_cell):\n",
    "            yi,xi = divmod(j,self.l_cell)\n",
    "            ri.append(sip(xi)+yi*self.l_cell)\n",
    "            li.append(sim(xi)+yi*self.l_cell)\n",
    "            ui.append(xi+sip(yi)*self.l_cell)\n",
    "            di.append(xi+sim(yi)*self.l_cell)\n",
    "            rui.append(sip(xi)+sip(yi)*self.l_cell)\n",
    "            dli.append(sim(xi)+sim(yi)*self.l_cell)\n",
    "        self.right = np.array(ri,dtype='int')\n",
    "        self.left = np.array(li,dtype='int')\n",
    "        self.up = np.array(ui,dtype='int')\n",
    "        self.down = np.array(di,dtype='int')\n",
    "        self.right_up = np.array(rui,dtype='int')\n",
    "        self.left_down = np.array(dli,dtype='int')\n"
   ]
  },
  {
   "cell_type": "code",
   "execution_count": 91,
   "metadata": {},
   "outputs": [],
   "source": [
    "## defining the class for the hamiltonian \n",
    "## it uses lattice as the parent class\n",
    "class Hamiltonian(lattice):\n",
    "    ## initializing the object\n",
    "    def __init(self,l_cell,n_cell,hopping,n_sites):\n",
    "        \n",
    "        ## using init of the parent class\n",
    "        super(Hamiltonian,self).__init__(l_cell,n_cell,hopping,n_sites)\n",
    "        \n",
    "\n",
    "    ## construct the hamiltonian matrix\n",
    "    def hamunitcell(self):\n",
    "        '''\n",
    "        This function will initialize the elements of the matrix only within the unit cell.\n",
    "        Hopping outside the unit cells is not allowed\n",
    "        0-->1, 0-->2, 1-->0,1--->2, 2--->0, 2-->1\n",
    "        parameters:\n",
    "            self(object): An instance of the class\n",
    "        return :\n",
    "            hammat(matrix): the incomplete hamiltonian matrix\n",
    "        '''\n",
    "        hammat = np.zeros((self.n_sites,self.n_sites))\n",
    "\n",
    "        for i in range(self.n_cell):\n",
    "            #ri, li, ui, di = self.right[i], self.left[i], self.up[i], self.down[i]\n",
    "            #rui,ldi = self.right_up[i],self.left_down[i]\n",
    "            \n",
    "            ## setting the bonds inside the unit cell\n",
    "            hammat[3*i,(3*i)+1] = -self.hopping\n",
    "            hammat[3*i, (3*i)+2] = -self.hopping\n",
    "\n",
    "            hammat[(3*i)+1,3*i] = -self.hopping\n",
    "            hammat[(3*i)+1,(3*i)+2] = -self.hopping\n",
    "\n",
    "            hammat[(3*i)+2, 3*i] = -self.hopping\n",
    "            hammat[(3*i)+2, (3*i)+1] = -self.hopping\n",
    "\n",
    "        return hammat\n",
    "\n",
    "    ### initialize hopping outside the unit cells\n",
    "    def hamOutUnitCell(self,hammat):\n",
    "        '''\n",
    "        This function will initialize hopping outside the unit cells\n",
    "        parameters:\n",
    "            self(object): Instance of the class\n",
    "        return:\n",
    "            None\n",
    "        '''\n",
    "        for i in range(self.n_cell):\n",
    "            ## sites in a given unit cell\n",
    "            s0,s1,s2 = 3*i,(3*i)+1,(3*i)+2\n",
    "\n",
    "            ### right,left,up,down neighbours of the unitcell\n",
    "            ri, li, ui, di = self.right[i], self.left[i], self.up[i], self.down[i]\n",
    "            \n",
    "            ## allowed neighbours of the site 0 of the unit cell\n",
    "            s0l = 3*li+1; s0ld = 3*self.left_down[i]+2\n",
    "\n",
    "            ## allowed neighbours of the site 1 of the unit cell\n",
    "            s1r = 3*ri; s1d = 3*di+2\n",
    "            \n",
    "            ## allowed neighbours of the site 2 of the unit cell\n",
    "            s2u = 3*ui+1; s2ur = 3*self.right_up[i]\n",
    "\n",
    "            ### setting up the bonds outside the unitcell\n",
    "            ## for the 1st site in the unitcell\n",
    "\n",
    "            hammat[s0,s0l] = -self.hopping\n",
    "            hammat[s0l,s0] = -self.hopping\n",
    "\n",
    "            hammat[s0,s0ld] = -self.hopping\n",
    "            hammat[s0ld,s0] = -self.hopping\n",
    "\n",
    "            ## for the 2nd site in the unit cell\n",
    "            hammat[s1,s1r] = -self.hopping\n",
    "            hammat[s1r,s1] = -self.hopping\n",
    "\n",
    "            hammat[s1,s1d] = -self.hopping\n",
    "            hammat[s1d,s1] = -self.hopping\n",
    "\n",
    "            ## for the 3rd site in the unit cell\n",
    "            hammat[s2,s2u] = -self.hopping\n",
    "            hammat[s2u,s2] = -self.hopping\n",
    "\n",
    "            hammat[s2,s2ur] = -self.hopping\n",
    "            hammat[s2ur,s2] = -self.hopping\n",
    "\n",
    "        self.ham = hammat\n",
    "\n",
    "    ### write the full hamiltonian\n",
    "    def haminit(self):\n",
    "        '''\n",
    "        This function will construct the full hamiltonian in two steps:\n",
    "        1. In first step it will sep up the hamiltonian for sites in the unit cell\n",
    "        2. In the second step the hopping outside the unit cell will be set up.\n",
    "        parameters:\n",
    "            self(object): The class instance\n",
    "        return:\n",
    "            None\n",
    "        '''\n",
    "        mat = self.hamunitcell()\n",
    "        self.hamOutUnitCell(mat)\n",
    "\n",
    "    ### diagonalize the hamiltonian\n",
    "    def diag(self):\n",
    "        '''\n",
    "        This function will diagonalize the hamiltonian\n",
    "        parameters:\n",
    "            self(object): Instance of the class\n",
    "        return:\n",
    "            evals (float): Eigenvalues of the hamiltonian\n",
    "            evecs(float): eigenvectors of the hamiltonian\n",
    "        '''\n",
    "        evals,evecs = lng.eigh(self.ham)\n",
    "        return evals,evecs\n",
    "\n"
   ]
  },
  {
   "cell_type": "code",
   "execution_count": 80,
   "metadata": {},
   "outputs": [
    {
     "name": "stdout",
     "output_type": "stream",
     "text": [
      "unitcell:0 site:0 li: 10 ldi:47\n",
      "unitcell:1 site:3 li: 1 ldi:38\n",
      "unitcell:2 site:6 li: 4 ldi:41\n",
      "unitcell:3 site:9 li: 7 ldi:44\n",
      "unitcell:4 site:12 li: 22 ldi:11\n",
      "unitcell:5 site:15 li: 13 ldi:2\n",
      "unitcell:6 site:18 li: 16 ldi:5\n",
      "unitcell:7 site:21 li: 19 ldi:8\n",
      "unitcell:8 site:24 li: 34 ldi:23\n",
      "unitcell:9 site:27 li: 25 ldi:14\n",
      "unitcell:10 site:30 li: 28 ldi:17\n",
      "unitcell:11 site:33 li: 31 ldi:20\n",
      "unitcell:12 site:36 li: 46 ldi:35\n",
      "unitcell:13 site:39 li: 37 ldi:26\n",
      "unitcell:14 site:42 li: 40 ldi:29\n",
      "unitcell:15 site:45 li: 43 ldi:32\n"
     ]
    }
   ],
   "source": [
    "for i in range(n_cell):\n",
    "    s0 = 3*i;s1 = (3*i)+1;s2 = (3*i)+2\n",
    "    \n",
    "    ri,li,ui,di = ham.right[i],ham.left[i],ham.up[i],ham.down[i]\n",
    "    s0l = 3*li+1 \n",
    "    s0ld = 3*ham.left_down[i]+2 \n",
    "    s1r = 3*ri\n",
    "    s1d = 3*di+2\n",
    "    s2u = 3*ui+1\n",
    "    s2ur = 3*ham.right_up[i]\n",
    "    #print(f'site-0: {s0} site-1: {s1} site-2: {s2}')\n",
    "    #print(f'ri: {ri} li: {li} di: {di} ui: {ui}')\n",
    "    \n",
    "    print(f'unitcell:{i} site:{3*i} li: {s0l} ldi:{s0ld}')\n",
    "    #print(f'unitcell:{i} site:{3*i+1} ri: {s1r} di:{s1d}')\n",
    "    #print(f'unitcell:{i} site:{3*i+2} ui: {s2u} rui:{s2ur}')\n"
   ]
  },
  {
   "cell_type": "code",
   "execution_count": 59,
   "metadata": {},
   "outputs": [
    {
     "data": {
      "text/plain": [
       "(1, 3)"
      ]
     },
     "execution_count": 59,
     "metadata": {},
     "output_type": "execute_result"
    }
   ],
   "source": [
    "    divmod(7,4)"
   ]
  },
  {
   "cell_type": "code",
   "execution_count": 98,
   "metadata": {},
   "outputs": [],
   "source": [
    "### create an instance of the class\n",
    "ham = Hamiltonian(l_cell,n_cell,hopping,n_sites)\n",
    "\n",
    "## set up the neighbour table\n",
    "ham.neighbour()\n",
    "\n",
    "\n",
    "\n",
    "## initialize the hamiltonian\n",
    "ham.haminit()\n",
    "\n",
    "\n",
    "## diagonalize the hamiltonian\n",
    "evls,evecs = ham.diag()"
   ]
  },
  {
   "cell_type": "code",
   "execution_count": 145,
   "metadata": {},
   "outputs": [],
   "source": [
    "exct_result = np.loadtxt('Eigval_kagome_tb.dat',delimiter='\\t')\n",
    "df = pd.DataFrame({'data':np.hstack([evls,exct_result])})\n",
    "df.loc[0:1200,'results'] = 'my_calc'\n",
    "df.loc[1200:,'results']='your calc'"
   ]
  },
  {
   "cell_type": "code",
   "execution_count": 147,
   "metadata": {},
   "outputs": [
    {
     "data": {
      "text/html": [
       "<div>\n",
       "<style scoped>\n",
       "    .dataframe tbody tr th:only-of-type {\n",
       "        vertical-align: middle;\n",
       "    }\n",
       "\n",
       "    .dataframe tbody tr th {\n",
       "        vertical-align: top;\n",
       "    }\n",
       "\n",
       "    .dataframe thead th {\n",
       "        text-align: right;\n",
       "    }\n",
       "</style>\n",
       "<table border=\"1\" class=\"dataframe\">\n",
       "  <thead>\n",
       "    <tr style=\"text-align: right;\">\n",
       "      <th></th>\n",
       "      <th>data</th>\n",
       "      <th>results</th>\n",
       "    </tr>\n",
       "  </thead>\n",
       "  <tbody>\n",
       "    <tr>\n",
       "      <th>2395</th>\n",
       "      <td>2.0</td>\n",
       "      <td>your calc</td>\n",
       "    </tr>\n",
       "    <tr>\n",
       "      <th>2396</th>\n",
       "      <td>2.0</td>\n",
       "      <td>your calc</td>\n",
       "    </tr>\n",
       "    <tr>\n",
       "      <th>2397</th>\n",
       "      <td>2.0</td>\n",
       "      <td>your calc</td>\n",
       "    </tr>\n",
       "    <tr>\n",
       "      <th>2398</th>\n",
       "      <td>2.0</td>\n",
       "      <td>your calc</td>\n",
       "    </tr>\n",
       "    <tr>\n",
       "      <th>2399</th>\n",
       "      <td>2.0</td>\n",
       "      <td>your calc</td>\n",
       "    </tr>\n",
       "  </tbody>\n",
       "</table>\n",
       "</div>"
      ],
      "text/plain": [
       "      data    results\n",
       "2395   2.0  your calc\n",
       "2396   2.0  your calc\n",
       "2397   2.0  your calc\n",
       "2398   2.0  your calc\n",
       "2399   2.0  your calc"
      ]
     },
     "execution_count": 147,
     "metadata": {},
     "output_type": "execute_result"
    }
   ],
   "source": [
    "df.tail()"
   ]
  },
  {
   "cell_type": "code",
   "execution_count": 168,
   "metadata": {},
   "outputs": [
    {
     "data": {
      "image/png": "[encoded data removed]",
      "text/plain": [
       "<Figure size 648x216 with 2 Axes>"
      ]
     },
     "metadata": {
      "needs_background": "light"
     },
     "output_type": "display_data"
    }
   ],
   "source": [
    "g = sns.FacetGrid(data=df,col='results',height=3,aspect=1.5)\n",
    "g.map_dataframe(sns.histplot,'data',fill=True,bins=20,stat='density')\n",
    "plt.show()\n"
   ]
  },
  {
   "cell_type": "code",
   "execution_count": null,
   "metadata": {},
   "outputs": [],
   "source": []
  }
 ],
 "metadata": {
  "kernelspec": {
   "display_name": "Python 3 (ipykernel)",
   "language": "python",
   "name": "python3"
  },
  "language_info": {
   "codemirror_mode": {
    "name": "ipython",
    "version": 3
   },
   "file_extension": ".py",
   "mimetype": "text/x-python",
   "name": "python",
   "nbconvert_exporter": "python",
   "pygments_lexer": "ipython3",
   "version": "3.8.13"
  }
 },
 "nbformat": 4,
 "nbformat_minor": 4
}
