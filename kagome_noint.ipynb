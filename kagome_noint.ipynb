{
 "cells": [
  {
   "cell_type": "markdown",
   "metadata": {},
   "source": [
    "### Kagome lattice"
   ]
  },
  {
   "cell_type": "code",
   "execution_count": 48,
   "metadata": {},
   "outputs": [],
   "source": [
    "import numpy as np\n",
    "import numpy.linalg as lng\n",
    "import matplotlib.pyplot as plt\n"
   ]
  },
  {
   "cell_type": "code",
   "execution_count": 55,
   "metadata": {},
   "outputs": [],
   "source": [
    "l_cell = 20\n",
    "n_cell = l_cell**2\n",
    "n_sites = 3*n_cell\n",
    "hopping = 1.0 "
   ]
  },
  {
   "cell_type": "code",
   "execution_count": 56,
   "metadata": {},
   "outputs": [],
   "source": [
    "### class to define the hamiltonian\n",
    "class lattice:\n",
    "    def __init__(self,l_cell,n_cell,hopping,n_sites):\n",
    "        '''\n",
    "        This function will initialize the object and set the\n",
    "        parameters:\n",
    "        parameters:\n",
    "            self(object): object\n",
    "            l_cell(int):  number of unit cell\n",
    "            n_cell(int): total number of unit cells\n",
    "            hopping(float): nn nearest neighbour hopping\n",
    "        '''\n",
    "        self.l_cell = l_cell\n",
    "        self.n_cell = n_cell\n",
    "        self.hopping = hopping\n",
    "        self.n_sites = n_sites\n",
    "    \n",
    "    ## this function will create the square lattice for \n",
    "    ## the unit cells\n",
    "    def neighbour(self):\n",
    "        '''\n",
    "        This function will create the neighbour table with\n",
    "        periodic boundary conditions\n",
    "        parameters:\n",
    "            None\n",
    "        return:\n",
    "            None\n",
    "        '''\n",
    "        sip = lambda x:(x+1)%self.l_cell\n",
    "        sim = lambda x:(x-1+self.l_cell)%self.l_cell\n",
    "        ri , li , ui , di,rui,dli = [],[],[],[],[],[]\n",
    "        for j in range(n_cell):\n",
    "            yi,xi = divmod(j,self.l_cell)\n",
    "            ri.append(sip(xi)+yi*self.l_cell)\n",
    "            li.append(sim(xi)+yi*self.l_cell)\n",
    "            ui.append(xi+sip(yi)*self.l_cell)\n",
    "            di.append(xi+sim(yi)*self.l_cell)\n",
    "            rui.append(sip(xi)+sip(yi)*self.l_cell)\n",
    "            dli.append(sim(xi)+sim(yi)*self.l_cell)\n",
    "        self.right = np.array(ri,dtype='int')\n",
    "        self.left = np.array(li,dtype='int')\n",
    "        self.up = np.array(ui,dtype='int')\n",
    "        self.down = np.array(di,dtype='int')\n",
    "        self.right_up = np.array(rui,dtype='int')\n",
    "        self.left_down = np.array(dli,dtype='int')\n"
   ]
  },
  {
   "cell_type": "code",
   "execution_count": 57,
   "metadata": {},
   "outputs": [
    {
     "name": "stdout",
     "output_type": "stream",
     "text": [
      "i:0, (0, 10)\n"
     ]
    }
   ],
   "source": [
    "## defining the class for the hamiltonian \n",
    "## it uses lattice as the parent class\n",
    "class Hamiltonian(lattice):\n",
    "    ## initializing the object\n",
    "    def __init(self,l_cell,n_cell,hopping,n_sites):\n",
    "        \n",
    "        ## using init of the parent class\n",
    "        super(Hamiltonian,self).__init__(l_cell,n_cell,hopping,n_sites)\n",
    "        \n",
    "    ## construct the hamiltonian matrix\n",
    "    def haminitialize(self):\n",
    "        hammat = np.zeros((n_sites,n_sites))\n",
    "\n",
    "        for i in range(self.n_cell):\n",
    "            ri = self.right[i]\n",
    "            li = self.left[i]\n",
    "            ui = self.up[i]\n",
    "            di = self.down[i]\n",
    "            rui = self.right_up[i]\n",
    "            ldi = self.left_down[i]\n",
    "            \n",
    "            ## setting the bonds inside the unit cell\n",
    "            #hammat[3*i,(3*i)+1] = -self.hopping\n",
    "            #hammat[3*i, (3*i)+2] = -self.hopping\n",
    "\n",
    "            #hammat[(3*i)+1,3*i] = -self.hopping\n",
    "            #hammat[(3*i)+1,(3*i)+2] = -self.hopping\n",
    "\n",
    "            #hammat[(3*i)+2, 3*i] = -self.hopping\n",
    "            #hammat[(3*i)+2, (3*i)+1] = -self.hopping\n",
    "            \n",
    "\n",
    "            ### setting up the bonds outside the unitcell\n",
    "            ## for the 1st site in the unitcell\n",
    "            \n",
    "            \n",
    "            hammat[3*i,(3*li)+1] = -self.hopping\n",
    "            hammat[(3*li)+1,3*i] = -self.hopping\n",
    "            \n",
    "            hammat[3*i,(3*ldi)+2] = -self.hopping\n",
    "            hammat[(3*ldi)+2,3*i] = -self.hopping\n",
    "            \n",
    "            ## for the 2nd site in the unit cell\n",
    "            hammat[(3*i)+1,3*ri] = -self.hopping\n",
    "            hammat[3*ri,(3*i)+1] = -self.hopping\n",
    "            \n",
    "            hammat[(3*i)+1,(3*di)+2] = -self.hopping\n",
    "            hammat[(3*di)+2,(3*i)+1] = -self.hopping\n",
    "            \n",
    "            ## for the 3rd site in the unit cell\n",
    "            hammat[(3*i)+2,(3*rui)] = -self.hopping\n",
    "            hammat[3*rui,(3*i)+2] = -self.hopping\n",
    "            \n",
    "            hammat[(3*i)+2,(3*ui)+1] = -self.hopping\n",
    "            hammat[(3*ui)+1,(3*i)+2] = -self.hopping\n",
    "            \n",
    "        self.ham = hammat\n",
    "        \n",
    "    ### diagonalize the hamiltonian\n",
    "    def diag(self):\n",
    "        '''\n",
    "        This function will diagonalize the hamiltonian\n",
    "        parameters:\n",
    "            self(object): Instance of the class\n",
    "        return:\n",
    "            evals (float): Eigenvalues of the hamiltonian\n",
    "            evecs(float): eigenvectors of the hamiltonian\n",
    "        '''\n",
    "        evals,evecs = lng.eig(self.ham)\n",
    "        return evals,evecs\n",
    "\n",
    "print(f'i:0, {3*0,3*ham.left[0]+1}')"
   ]
  },
  {
   "cell_type": "code",
   "execution_count": 54,
   "metadata": {},
   "outputs": [
    {
     "data": {
      "text/plain": [
       "array([-1.,  0., -1., -1.,  0.,  0.,  0.,  0.,  0.,  0.,  0.,  0.,  0.,\n",
       "        0.,  0.,  0.,  0.,  0.,  0.,  0.,  0.,  0.,  0.,  0.,  0.,  0.,\n",
       "        0.,  0.,  0.,  0.,  0.,  0.,  0.,  0.,  0.,  0.,  0.,  0., -1.,\n",
       "        0.,  0.,  0.,  0.,  0.,  0.,  0.,  0.,  0.])"
      ]
     },
     "execution_count": 54,
     "metadata": {},
     "output_type": "execute_result"
    }
   ],
   "source": [
    "ham.ham[1,:]"
   ]
  },
  {
   "cell_type": "code",
   "execution_count": 58,
   "metadata": {},
   "outputs": [],
   "source": [
    "### create an instance of the class\n",
    "ham = Hamiltonian(l_cell,n_cell,hopping,n_sites)\n",
    "\n",
    "## set up the neighbour table\n",
    "ham.neighbour()\n",
    "\n",
    "\n",
    "\n",
    "## initialize the hamiltonian\n",
    "ham.haminitialize()\n",
    "\n",
    "\n",
    "## diagonalize the hamiltonian\n",
    "#evls,evecs = ham.diag()"
   ]
  },
  {
   "cell_type": "code",
   "execution_count": 59,
   "metadata": {},
   "outputs": [],
   "source": [
    "exct_result = np.loadtxt('Eigval_kagome_tb.dat',delimiter='\\t')\n"
   ]
  },
  {
   "cell_type": "code",
   "execution_count": 60,
   "metadata": {},
   "outputs": [
    {
     "data": {
      "image/png": "[encoded data removed]",
      "text/plain": [
       "<Figure size 432x288 with 1 Axes>"
      ]
     },
     "metadata": {
      "needs_background": "light"
     },
     "output_type": "display_data"
    }
   ],
   "source": [
    "plt.hist(evls.real,density=1,bins=50)\n",
    "plt.hist(exct_result, density=1, bins=20)\n",
    "plt.show()\n"
   ]
  },
  {
   "cell_type": "code",
   "execution_count": 21,
   "metadata": {},
   "outputs": [
    {
     "data": {
      "image/png": "[encoded data removed]",
      "text/plain": [
       "<Figure size 432x288 with 1 Axes>"
      ]
     },
     "metadata": {
      "needs_background": "light"
     },
     "output_type": "display_data"
    }
   ],
   "source": [
    "plt.plot(np.sort(evls.real))\n",
    "plt.plot(np.sort(exct_result))\n",
    "plt.show()"
   ]
  },
  {
   "cell_type": "code",
   "execution_count": 20,
   "metadata": {},
   "outputs": [
    {
     "data": {
      "image/png": "[encoded data removed]",
      "text/plain": [
       "<Figure size 432x288 with 1 Axes>"
      ]
     },
     "metadata": {
      "needs_background": "light"
     },
     "output_type": "display_data"
    }
   ],
   "source": [
    "plt.plot(abs(np.sort(evls.real)))\n",
    "plt.show()"
   ]
  },
  {
   "cell_type": "code",
   "execution_count": null,
   "metadata": {},
   "outputs": [],
   "source": [
    "evls"
   ]
  },
  {
   "cell_type": "code",
   "execution_count": null,
   "metadata": {},
   "outputs": [],
   "source": []
  }
 ],
 "metadata": {
  "kernelspec": {
   "display_name": "Python 3 (ipykernel)",
   "language": "python",
   "name": "python3"
  },
  "language_info": {
   "codemirror_mode": {
    "name": "ipython",
    "version": 3
   },
   "file_extension": ".py",
   "mimetype": "text/x-python",
   "name": "python",
   "nbconvert_exporter": "python",
   "pygments_lexer": "ipython3",
   "version": "3.8.2"
  }
 },
 "nbformat": 4,
 "nbformat_minor": 2
}
