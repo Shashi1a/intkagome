{
 "cells": [
  {
   "cell_type": "markdown",
   "metadata": {},
   "source": [
    "### Kagome lattice"
   ]
  },
  {
   "cell_type": "code",
   "execution_count": 1,
   "metadata": {},
   "outputs": [],
   "source": [
    "import numpy as np\n",
    "import numpy.linalg as lng\n",
    "import matplotlib.pyplot as plt\n",
    "import pandas as pd\n",
    "import seaborn as sns"
   ]
  },
  {
   "cell_type": "code",
   "execution_count": 2,
   "metadata": {},
   "outputs": [],
   "source": [
    "l_cell = 20\n",
    "n_cell = l_cell**2\n",
    "n_sites = 3*n_cell\n",
    "hopping = 1.0 "
   ]
  },
  {
   "cell_type": "code",
   "execution_count": 3,
   "metadata": {},
   "outputs": [],
   "source": [
    "### class to define the hamiltonian\n",
    "class lattice:\n",
    "    def __init__(self,l_cell,n_cell,hopping,n_sites):\n",
    "        '''\n",
    "        This function will initialize the object and set the\n",
    "        parameters:\n",
    "        parameters:\n",
    "            self(object): object\n",
    "            l_cell(int):  number of unit cell\n",
    "            n_cell(int): total number of unit cells\n",
    "            hopping(float): nn nearest neighbour hopping\n",
    "        '''\n",
    "        self.l_cell = l_cell\n",
    "        self.n_cell = n_cell\n",
    "        self.hopping = hopping\n",
    "        self.n_sites = n_sites\n",
    "    \n",
    "    ## this function will create the square lattice for \n",
    "    ## the unit cells\n",
    "    def neighbour(self):\n",
    "        '''\n",
    "        This function will create the neighbour table with\n",
    "        periodic boundary conditions\n",
    "        parameters:\n",
    "            None\n",
    "        return:\n",
    "            None\n",
    "        '''\n",
    "        sip = lambda x:(x+1)%self.l_cell\n",
    "        sim = lambda x:(x-1+self.l_cell)%self.l_cell\n",
    "        ri , li , ui , di,rui,dli = [],[],[],[],[],[]\n",
    "        for j in range(n_cell):\n",
    "            yi,xi = divmod(j,self.l_cell)\n",
    "            ri.append(sip(xi)+yi*self.l_cell)\n",
    "            li.append(sim(xi)+yi*self.l_cell)\n",
    "            ui.append(xi+sip(yi)*self.l_cell)\n",
    "            di.append(xi+sim(yi)*self.l_cell)\n",
    "            rui.append(sip(xi)+sip(yi)*self.l_cell)\n",
    "            dli.append(sim(xi)+sim(yi)*self.l_cell)\n",
    "        self.right = np.array(ri,dtype='int')\n",
    "        self.left = np.array(li,dtype='int')\n",
    "        self.up = np.array(ui,dtype='int')\n",
    "        self.down = np.array(di,dtype='int')\n",
    "        self.right_up = np.array(rui,dtype='int')\n",
    "        self.left_down = np.array(dli,dtype='int')\n"
   ]
  },
  {
   "cell_type": "code",
   "execution_count": 4,
   "metadata": {},
   "outputs": [],
   "source": [
    "## defining the class for the hamiltonian \n",
    "## it uses lattice as the parent class\n",
    "class Hamiltonian(lattice):\n",
    "    ## initializing the object\n",
    "    def __init(self,l_cell,n_cell,hopping,n_sites):\n",
    "        \n",
    "        ## using init of the parent class\n",
    "        super(Hamiltonian,self).__init__(l_cell,n_cell,hopping,n_sites)\n",
    "        \n",
    "\n",
    "    ## construct the hamiltonian matrix\n",
    "    def hamunitcell(self):\n",
    "        '''\n",
    "        This function will initialize the elements of the matrix only within the unit cell.\n",
    "        Hopping outside the unit cells is not allowed\n",
    "        0-->1, 0-->2, 1-->0,1--->2, 2--->0, 2-->1\n",
    "        parameters:\n",
    "            self(object): An instance of the class\n",
    "        return :\n",
    "            hammat(matrix): the incomplete hamiltonian matrix\n",
    "        '''\n",
    "        hammat = np.zeros((self.n_sites,self.n_sites))\n",
    "\n",
    "        for i in range(self.n_cell):\n",
    "            #ri, li, ui, di = self.right[i], self.left[i], self.up[i], self.down[i]\n",
    "            #rui,ldi = self.right_up[i],self.left_down[i]\n",
    "            \n",
    "            ## setting the bonds inside the unit cell\n",
    "            hammat[3*i,(3*i)+1] = -self.hopping\n",
    "            hammat[3*i, (3*i)+2] = -self.hopping\n",
    "\n",
    "            hammat[(3*i)+1,3*i] = -self.hopping\n",
    "            hammat[(3*i)+1,(3*i)+2] = -self.hopping\n",
    "\n",
    "            hammat[(3*i)+2, 3*i] = -self.hopping\n",
    "            hammat[(3*i)+2, (3*i)+1] = -self.hopping\n",
    "\n",
    "        return hammat\n",
    "\n",
    "    ### initialize hopping outside the unit cells\n",
    "    def hamOutUnitCell(self,hammat):\n",
    "        '''\n",
    "        This function will initialize hopping outside the unit cells\n",
    "        parameters:\n",
    "            self(object): Instance of the class\n",
    "        return:\n",
    "            None\n",
    "        '''\n",
    "        for i in range(self.n_cell):\n",
    "            ## sites in a given unit cell\n",
    "            s0,s1,s2 = 3*i,(3*i)+1,(3*i)+2\n",
    "\n",
    "            ### right,left,up,down neighbours of the unitcell\n",
    "            ri, li, ui, di = self.right[i], self.left[i], self.up[i], self.down[i]\n",
    "            \n",
    "            ## allowed neighbours of the site 0 of the unit cell\n",
    "            s0l = 3*li+1; s0ld = 3*self.left_down[i]+2\n",
    "\n",
    "            ## allowed neighbours of the site 1 of the unit cell\n",
    "            s1r = 3*ri; s1d = 3*di+2\n",
    "            \n",
    "            ## allowed neighbours of the site 2 of the unit cell\n",
    "            s2u = 3*ui+1; s2ur = 3*self.right_up[i]\n",
    "\n",
    "            ### setting up the bonds outside the unitcell\n",
    "            ## for the 1st site in the unitcell\n",
    "\n",
    "            hammat[s0,s0l] = -self.hopping\n",
    "            hammat[s0l,s0] = -self.hopping\n",
    "\n",
    "            hammat[s0,s0ld] = -self.hopping\n",
    "            hammat[s0ld,s0] = -self.hopping\n",
    "\n",
    "            ## for the 2nd site in the unit cell\n",
    "            hammat[s1,s1r] = -self.hopping\n",
    "            hammat[s1r,s1] = -self.hopping\n",
    "\n",
    "            hammat[s1,s1d] = -self.hopping\n",
    "            hammat[s1d,s1] = -self.hopping\n",
    "\n",
    "            ## for the 3rd site in the unit cell\n",
    "            hammat[s2,s2u] = -self.hopping\n",
    "            hammat[s2u,s2] = -self.hopping\n",
    "\n",
    "            hammat[s2,s2ur] = -self.hopping\n",
    "            hammat[s2ur,s2] = -self.hopping\n",
    "\n",
    "        self.ham = hammat\n",
    "\n",
    "    ### write the full hamiltonian\n",
    "    def haminit(self):\n",
    "        '''\n",
    "        This function will construct the full hamiltonian in two steps:\n",
    "        1. In first step it will sep up the hamiltonian for sites in the unit cell\n",
    "        2. In the second step the hopping outside the unit cell will be set up.\n",
    "        parameters:\n",
    "            self(object): The class instance\n",
    "        return:\n",
    "            None\n",
    "        '''\n",
    "        mat = self.hamunitcell()\n",
    "        self.hamOutUnitCell(mat)\n",
    "\n",
    "    ### diagonalize the hamiltonian\n",
    "    def diag(self):\n",
    "        '''\n",
    "        This function will diagonalize the hamiltonian\n",
    "        parameters:\n",
    "            self(object): Instance of the class\n",
    "        return:\n",
    "            evals (float): Eigenvalues of the hamiltonian\n",
    "            evecs(float): eigenvectors of the hamiltonian\n",
    "        '''\n",
    "        evals,evecs = lng.eigh(self.ham)\n",
    "        return evals,evecs\n",
    "\n"
   ]
  },
  {
   "cell_type": "code",
   "execution_count": 5,
   "metadata": {},
   "outputs": [
    {
     "ename": "NameError",
     "evalue": "name 'ham' is not defined",
     "output_type": "error",
     "traceback": [
      "\u001b[0;31m---------------------------------------------------------------------------\u001b[0m",
      "\u001b[0;31mNameError\u001b[0m                                 Traceback (most recent call last)",
      "\u001b[0;32m<ipython-input-5-443f98cefb0c>\u001b[0m in \u001b[0;36m<module>\u001b[0;34m\u001b[0m\n\u001b[1;32m      2\u001b[0m     \u001b[0ms0\u001b[0m \u001b[0;34m=\u001b[0m \u001b[0;36m3\u001b[0m\u001b[0;34m*\u001b[0m\u001b[0mi\u001b[0m\u001b[0;34m;\u001b[0m\u001b[0ms1\u001b[0m \u001b[0;34m=\u001b[0m \u001b[0;34m(\u001b[0m\u001b[0;36m3\u001b[0m\u001b[0;34m*\u001b[0m\u001b[0mi\u001b[0m\u001b[0;34m)\u001b[0m\u001b[0;34m+\u001b[0m\u001b[0;36m1\u001b[0m\u001b[0;34m;\u001b[0m\u001b[0ms2\u001b[0m \u001b[0;34m=\u001b[0m \u001b[0;34m(\u001b[0m\u001b[0;36m3\u001b[0m\u001b[0;34m*\u001b[0m\u001b[0mi\u001b[0m\u001b[0;34m)\u001b[0m\u001b[0;34m+\u001b[0m\u001b[0;36m2\u001b[0m\u001b[0;34m\u001b[0m\u001b[0;34m\u001b[0m\u001b[0m\n\u001b[1;32m      3\u001b[0m \u001b[0;34m\u001b[0m\u001b[0m\n\u001b[0;32m----> 4\u001b[0;31m     \u001b[0mri\u001b[0m\u001b[0;34m,\u001b[0m\u001b[0mli\u001b[0m\u001b[0;34m,\u001b[0m\u001b[0mui\u001b[0m\u001b[0;34m,\u001b[0m\u001b[0mdi\u001b[0m \u001b[0;34m=\u001b[0m \u001b[0mham\u001b[0m\u001b[0;34m.\u001b[0m\u001b[0mright\u001b[0m\u001b[0;34m[\u001b[0m\u001b[0mi\u001b[0m\u001b[0;34m]\u001b[0m\u001b[0;34m,\u001b[0m\u001b[0mham\u001b[0m\u001b[0;34m.\u001b[0m\u001b[0mleft\u001b[0m\u001b[0;34m[\u001b[0m\u001b[0mi\u001b[0m\u001b[0;34m]\u001b[0m\u001b[0;34m,\u001b[0m\u001b[0mham\u001b[0m\u001b[0;34m.\u001b[0m\u001b[0mup\u001b[0m\u001b[0;34m[\u001b[0m\u001b[0mi\u001b[0m\u001b[0;34m]\u001b[0m\u001b[0;34m,\u001b[0m\u001b[0mham\u001b[0m\u001b[0;34m.\u001b[0m\u001b[0mdown\u001b[0m\u001b[0;34m[\u001b[0m\u001b[0mi\u001b[0m\u001b[0;34m]\u001b[0m\u001b[0;34m\u001b[0m\u001b[0;34m\u001b[0m\u001b[0m\n\u001b[0m\u001b[1;32m      5\u001b[0m     \u001b[0ms0l\u001b[0m \u001b[0;34m=\u001b[0m \u001b[0;36m3\u001b[0m\u001b[0;34m*\u001b[0m\u001b[0mli\u001b[0m\u001b[0;34m+\u001b[0m\u001b[0;36m1\u001b[0m\u001b[0;34m\u001b[0m\u001b[0;34m\u001b[0m\u001b[0m\n\u001b[1;32m      6\u001b[0m     \u001b[0ms0ld\u001b[0m \u001b[0;34m=\u001b[0m \u001b[0;36m3\u001b[0m\u001b[0;34m*\u001b[0m\u001b[0mham\u001b[0m\u001b[0;34m.\u001b[0m\u001b[0mleft_down\u001b[0m\u001b[0;34m[\u001b[0m\u001b[0mi\u001b[0m\u001b[0;34m]\u001b[0m\u001b[0;34m+\u001b[0m\u001b[0;36m2\u001b[0m\u001b[0;34m\u001b[0m\u001b[0;34m\u001b[0m\u001b[0m\n",
      "\u001b[0;31mNameError\u001b[0m: name 'ham' is not defined"
     ]
    }
   ],
   "source": [
    "for i in range(n_cell):\n",
    "    s0 = 3*i;s1 = (3*i)+1;s2 = (3*i)+2\n",
    "    \n",
    "    ri,li,ui,di = ham.right[i],ham.left[i],ham.up[i],ham.down[i]\n",
    "    s0l = 3*li+1 \n",
    "    s0ld = 3*ham.left_down[i]+2 \n",
    "    s1r = 3*ri\n",
    "    s1d = 3*di+2\n",
    "    s2u = 3*ui+1\n",
    "    s2ur = 3*ham.right_up[i]\n",
    "    #print(f'site-0: {s0} site-1: {s1} site-2: {s2}')\n",
    "    #print(f'ri: {ri} li: {li} di: {di} ui: {ui}')\n",
    "    \n",
    "    print(f'unitcell:{i} site:{3*i} li: {s0l} ldi:{s0ld}')\n",
    "    #print(f'unitcell:{i} site:{3*i+1} ri: {s1r} di:{s1d}')\n",
    "    #print(f'unitcell:{i} site:{3*i+2} ui: {s2u} rui:{s2ur}')\n"
   ]
  },
  {
   "cell_type": "code",
   "execution_count": 5,
   "metadata": {},
   "outputs": [],
   "source": [
    "### create an instance of the class\n",
    "ham = Hamiltonian(l_cell,n_cell,hopping,n_sites)\n",
    "\n",
    "## set up the neighbour table\n",
    "ham.neighbour()\n",
    "\n",
    "\n",
    "\n",
    "## initialize the hamiltonian\n",
    "ham.haminit()\n",
    "\n",
    "\n",
    "## diagonalize the hamiltonian\n",
    "envls,evecs = ham.diag()"
   ]
  },
  {
   "cell_type": "code",
   "execution_count": 6,
   "metadata": {},
   "outputs": [
    {
     "name": "stdout",
     "output_type": "stream",
     "text": [
      "2400\n"
     ]
    }
   ],
   "source": [
    "exct_result = np.loadtxt('Eigval_kagome_tb.dat',delimiter='\\t')\n",
    "mc_r = pd.read_csv('evali.dat', sep='\\t',header=None)\n",
    "mc_r.columns = ['data']\n",
    "evls = []\n",
    "for j in mc_r.data.str.split():\n",
    "    evls.append(j[1])\n",
    "print(len(evls))\n",
    "\n",
    "df = pd.DataFrame({'data':np.hstack([envls,exct_result,np.array(evls)])})\n",
    "df.loc[0:1200,'results'] = 'my_calc'\n",
    "df.loc[1200:2400,'results']='your_calc'\n",
    "df.loc[2400:,'results'] = 'mc_calc'"
   ]
  },
  {
   "cell_type": "code",
   "execution_count": 67,
   "metadata": {},
   "outputs": [
    {
     "name": "stdout",
     "output_type": "stream",
     "text": [
      "<class 'pandas.core.frame.DataFrame'>\n",
      "RangeIndex: 6000 entries, 0 to 5999\n",
      "Data columns (total 2 columns):\n",
      " #   Column   Non-Null Count  Dtype  \n",
      "---  ------   --------------  -----  \n",
      " 0   data     6000 non-null   float64\n",
      " 1   results  6000 non-null   object \n",
      "dtypes: float64(1), object(1)\n",
      "memory usage: 93.9+ KB\n"
     ]
    }
   ],
   "source": [
    "df.data = df.data.astype('float')\n",
    "df.info()"
   ]
  },
  {
   "cell_type": "code",
   "execution_count": 62,
   "metadata": {},
   "outputs": [
    {
     "data": {
      "image/png": "[encoded data removed]",
      "text/plain": [
       "<Figure size 972x216 with 3 Axes>"
      ]
     },
     "metadata": {
      "needs_background": "light"
     },
     "output_type": "display_data"
    }
   ],
   "source": [
    "g = sns.FacetGrid(data=df,col='results',height=3,aspect=1.5)\n",
    "g.map_dataframe(sns.histplot,'data',fill=True,bins=20,stat='density')\n",
    "plt.show()\n"
   ]
  },
  {
   "cell_type": "code",
   "execution_count": 63,
   "metadata": {},
   "outputs": [
    {
     "data": {
      "text/plain": [
       "<AxesSubplot:xlabel='data', ylabel='Density'>"
      ]
     },
     "execution_count": 63,
     "metadata": {},
     "output_type": "execute_result"
    },
    {
     "data": {
      "image/png": "[encoded data removed]",
      "text/plain": [
       "<Figure size 432x288 with 1 Axes>"
      ]
     },
     "metadata": {
      "needs_background": "light"
     },
     "output_type": "display_data"
    }
   ],
   "source": [
    "sns.histplot(x='data',data=df,hue='results',stat='density',bins=100)"
   ]
  },
  {
   "cell_type": "code",
   "execution_count": 68,
   "metadata": {},
   "outputs": [
    {
     "data": {
      "text/plain": [
       "<AxesSubplot:xlabel='data', ylabel='Density'>"
      ]
     },
     "execution_count": 68,
     "metadata": {},
     "output_type": "execute_result"
    },
    {
     "data": {
      "image/png": "[encoded data removed]",
      "text/plain": [
       "<Figure size 432x288 with 1 Axes>"
      ]
     },
     "metadata": {
      "needs_background": "light"
     },
     "output_type": "display_data"
    }
   ],
   "source": [
    "sns.histplot(df.loc[df.results=='your_calc','data'],stat='density')"
   ]
  },
  {
   "cell_type": "code",
   "execution_count": 7,
   "metadata": {},
   "outputs": [
    {
     "name": "stderr",
     "output_type": "stream",
     "text": [
      "No handles with labels found to put in legend.\n",
      "No handles with labels found to put in legend.\n"
     ]
    },
    {
     "data": {
      "image/png": "[encoded data removed]",
      "text/plain": [
       "<Figure size 864x360 with 3 Axes>"
      ]
     },
     "metadata": {
      "needs_background": "light"
     },
     "output_type": "display_data"
    }
   ],
   "source": [
    "f,ax=plt.subplots(1,3,figsize=(12,5))\n",
    "ax[0].hist(exct_result,bins=30,density=1,label='yourcalc')\n",
    "plt.legend()\n",
    "ax[1].hist(np.array(evls,dtype='float'), bins=40, density=1,label='mc_calc')\n",
    "plt.legend()\n",
    "ax[2].hist(np.array(envls, dtype='float'), bins=40, density=1, label='mc_calc')\n",
    "plt.legend()\n",
    "plt.show()"
   ]
  },
  {
   "cell_type": "code",
   "execution_count": 10,
   "metadata": {},
   "outputs": [
    {
     "data": {
      "text/plain": [
       "1200"
      ]
     },
     "execution_count": 10,
     "metadata": {},
     "output_type": "execute_result"
    }
   ],
   "source": [
    "np.isclose(exct_result,envls).sum()"
   ]
  },
  {
   "cell_type": "code",
   "execution_count": null,
   "metadata": {},
   "outputs": [],
   "source": []
  }
 ],
 "metadata": {
  "kernelspec": {
   "display_name": "Python 3 (ipykernel)",
   "language": "python",
   "name": "python3"
  },
  "language_info": {
   "codemirror_mode": {
    "name": "ipython",
    "version": 3
   },
   "file_extension": ".py",
   "mimetype": "text/x-python",
   "name": "python",
   "nbconvert_exporter": "python",
   "pygments_lexer": "ipython3",
   "version": "3.8.6"
  }
 },
 "nbformat": 4,
 "nbformat_minor": 4
}
