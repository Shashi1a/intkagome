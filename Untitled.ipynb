{
 "cells": [
  {
   "cell_type": "code",
   "execution_count": 18,
   "metadata": {},
   "outputs": [],
   "source": [
    "import pandas as pd\n",
    "import numpy as np\n",
    "import matplotlib.pyplot as plt\n",
    "from numpy import linalg as lng\n",
    "import glob\n",
    "import itertools"
   ]
  },
  {
   "cell_type": "markdown",
   "metadata": {},
   "source": [
    "#### Non-interacting results\n",
    "In the non-interacting limit when $\\mu$ is not set. "
   ]
  },
  {
   "cell_type": "code",
   "execution_count": 144,
   "metadata": {},
   "outputs": [],
   "source": [
    "### class definition to incorporate the interacting part to the system\n",
    "class interaction(Hamiltonian):\n",
    "    ###Constructor for the object\n",
    "    def __init__(self,l_cell,n_cell,s_cell,hopping,n_sites,dim_h,mu,u_int,file_path,pattern):\n",
    "        \"\"\"\n",
    "        Constructor for the class.\n",
    "        parameters:\n",
    "            self(object): class instance\n",
    "            l_cell(integer): linear dimension of the lattice\n",
    "            n_cell(integer): number of  unit cells in the lattice (L*L)\n",
    "            s_cell(integer): number of sites in the unit cell\n",
    "            hopping(float): hopping strength\n",
    "            n_sites(integer): number of sites in the system (n_cell*s_cell)\n",
    "            dim_h(integer) : dimensionaity of the hamiltonian considering the spin up and spin down particles\n",
    "            u_int(float): interaction strength\n",
    "            file_path(string): location where the file is stores\n",
    "        return:\n",
    "            None\n",
    "        \"\"\"\n",
    "\n",
    "\n",
    "        super(interaction, self).__init__(l_cell, n_cell,\n",
    "                                          s_cell, hopping, n_sites, dim_h, mu, u_int)\n",
    "        self.file_path = file_path\n",
    "        self.pattern  = pattern\n",
    "\n",
    "    ### data files in the system in a location and given pattern\n",
    "    ### It also create a dictionary with files, temperature as key and file names as the value\n",
    "    def getFiles(self):\n",
    "        \"\"\"\n",
    "        This function will create a list of all the files present in the given file path\n",
    "        and given pattern.\n",
    "        parameters:\n",
    "            self(object): Instance of the class\n",
    "        return:\n",
    "            None\n",
    "        \"\"\"\n",
    "        file_list = glob.glob(self.file_path+self.pattern)\n",
    "        self.file_list = file_list\n",
    "        self.n_files = len(file_list)\n",
    "        \n",
    "        ## temporary variables to store keys and values\n",
    "        ki,fn = [],[]  \n",
    "        for j in self.file_list:\n",
    "            ki.append(j.split('temp')[1].split('_Uint')[0])\n",
    "            fn.append(j)\n",
    "        self.data_dict = dict(zip(np.array(ki,dtype='float'),fn))\n",
    "    \n",
    "    ### storing data of monte carlo variables into a dataframe \n",
    "    def datadf(self,file_t):\n",
    "        \"\"\"\n",
    "        This function will load the data and put them into a dataframe\n",
    "        parameters:\n",
    "            self(object): instance of the class\n",
    "            file_t(float): key/temperature of the data we want to use\n",
    "        return:\n",
    "            datadf(dataframe): dataframe holding data for a particular temperature\n",
    "        \"\"\"\n",
    "\n",
    "        data = pd.read_csv(self.data_dict[file_t], header=None)\n",
    "        data.columns = ['data']\n",
    "\n",
    "        \n",
    "        ### number of monte carlo configurations for each temperature\n",
    "        self.nmc = data.shape[0]\n",
    "\n",
    "        ## list to store the data from the files for sites in the unit cell\n",
    "        m0, m1, m2 = [], [], []\n",
    "        theta0, theta1, theta2 = [],[],[]\n",
    "        phi0, phi1, phi2 = [],[],[]\n",
    "\n",
    "        for i in range(data.shape[0]):\n",
    "            data_i = data.loc[i, 'data'].strip().split()\n",
    "            m0.append(data_i[2])\n",
    "            m1.append(data_i[3])\n",
    "            m2.append(data_i[4])\n",
    "            theta0.append(data_i[5])\n",
    "            theta1.append(data_i[6])\n",
    "            theta2.append(data_i[7])\n",
    "            phi0.append(data_i[8])\n",
    "            phi1.append(data_i[9])\n",
    "            phi2.append(data_i[10])\n",
    "\n",
    "        data_dict = {\n",
    "            'm1': np.array(m0, dtype='float'),\n",
    "            'm2': np.array(m1, dtype='float'),\n",
    "            'm3': np.array(m1, dtype='float'),\n",
    "            'theta1': np.array(theta0, dtype='float'),\n",
    "            'theta2': np.array(theta1, dtype='float'),\n",
    "            'theta3': np.array(theta2, dtype='float'),\n",
    "            'phi1': np.array(phi0, dtype='float'),\n",
    "            'phi2': np.array(phi1, dtype='float'),\n",
    "            'phi3': np.array(phi2, dtype='float')\n",
    "        }\n",
    "        return pd.DataFrame(data_dict)\n",
    "\n",
    "\n",
    "    ### this function will initialize the interacting part of the hamiltonian\n",
    "    def intpart(self,df,mat):\n",
    "        \"\"\"\n",
    "        This function will use the equilibrated monte carlo configuration and generate\n",
    "        the hamiltonian. The non interacting part of the hamiltonian is already generated\n",
    "        and the same matrix will be used here\n",
    "        parameter:\n",
    "            self(object): instance of the class\n",
    "            df(dataframe): dataframe that is storing the monte carlo configurations\n",
    "            mat(matrix): non interacting hamiltonian matrix \n",
    "        return:\n",
    "            None\n",
    "        \"\"\"\n",
    "\n",
    "        ## mx = m0 * cos(phi) * sin(theta)\n",
    "        ## my = m0 * sin(phi) * sin(theta)\n",
    "        ## mz = m0 * cos(theta)\n",
    "\n",
    "        m_x = lambda x,y,z : x*np.cos(y) * sin(z)\n",
    "        m_y = lambda x,y,z : x*np.sin(y) * sin(z)\n",
    "        m_z = lambda x,y : x*np.cos(y) \n",
    "        \n",
    "        for j in self.n_cell:\n",
    "            s0 = j*self.s_cell; s1 = s0 + 1, s2 = s0 +2\n",
    "            s0n = s0n + (self.s_cell * n_cell); s1n = s0n + 1 ; s2n = s0n + 2\n",
    "            \n",
    "            ## slice corresponding to a sile\n",
    "            data_loc = df.iloc[j,:]\n",
    "            ### initialize the mx_i,my_i,mz_i for the hamiltonian\n",
    "            m_0 = data_loc[0] ; m_1 = data_loc[1];m_1 = data_loc[2]\n",
    "            theta_0 = data_loc[3];theta_1 = data_loc[4];theta_2 = data_loc[5]\n",
    "            phi_0 = data_loc[6];phi_1 = data_loc[7];phi_2 = data_loc[8]\n",
    "\n",
    "            m_x0 = m_x(m_0,phi_0,theta_0);m_x1 = m_x(m_1,phi_1,theta_1);m_x2 = m_x(m_2,phi_2,theta_2)\n",
    "            m_y0 = m_y(m_0, phi_0, theta_0);m_y1 = m_y(m_1, phi_1, theta_1);m_y2 = m_y(m_2,phi_2,theta_2)  \n",
    "            m_z0 = m_z(m_0,theta_0) ; m_z1 = m_z(m_1,theta_1) ; m_z2 = m_z(m_2,theta_2)\n",
    "            \n",
    "            ### diagonal part of the hamiltonian for the up spin\n",
    "            mat[s0,s0] = -0.5*self.u_int*m_z0 \n",
    "            mat[s1, s1] = -0.5*self.u_int*m_z1\n",
    "            mat[s2, s2] = -0.5*self.u_int*m_z2\n",
    "\n",
    "            ### diagonal part of the hamiltonian for the down spin\n",
    "            mat[s0n, s0n] = 0.5*self.u_int*m_z0\n",
    "            mat[s1n,s1n] = 0.5*self.u_int*m_z1\n",
    "            mat[s2n,s2n] = 0.5*self.u_int*m_z2\n",
    "\n",
    "            ### off diagonal part of the hamiltonian between up,dn spin\n",
    "            mat[s0,s0n] = -0.5*self.u_int*(m_x0-jm_y0)\n",
    "            mat[s1,s1n] = -0.5*self.u_int*(m_x1-jm_y1)\n",
    "            mat[s2, s2n] = -0.5*self.u_int*(m_x2-jm_y2)\n",
    "\n",
    "            mat[s0n,s0] = -0.5*self.u_int*(m_x0+jm_y0)\n",
    "            mat[s1n,s1] = -0.5*self.u_int*(m_x0+jm_y0)\n",
    "            mat[s2n, s2] = -0.5*self.u_int*(m_x0+jm_y0)\n"
   ]
  },
  {
   "cell_type": "code",
   "execution_count": 154,
   "metadata": {},
   "outputs": [],
   "source": [
    "## file path were the files are stored\n",
    "file_path = './'\n",
    "## pattern we want to search in the file name\n",
    "pattern = 'mc*.dat'\n",
    "\n",
    "## create instance of the class\n",
    "files = interaction(l_cell, n_cell, s_cell, hopping, n_sites, dim_h, mu, u_int,file_path,pattern)\n",
    "\n",
    "## get names of all the files in the location with the given pattern\n",
    "files.getFiles()\n",
    "\n",
    "files.data_dict\n",
    "temp = 0.30\n",
    "datadf = files.datadf(temp)\n",
    "datadf['temp'] = temp\n",
    "\n",
    "### setting up the non interacting hamiltonian\n",
    "\n",
    "files.neighbour() ## setting up the neighbour table\n",
    "file.haminit() ## initialize the hamiltonian\n",
    "\n",
    "\n"
   ]
  },
  {
   "cell_type": "code",
   "execution_count": 158,
   "metadata": {},
   "outputs": [
    {
     "data": {
      "text/html": [
       "<div>\n",
       "<style scoped>\n",
       "    .dataframe tbody tr th:only-of-type {\n",
       "        vertical-align: middle;\n",
       "    }\n",
       "\n",
       "    .dataframe tbody tr th {\n",
       "        vertical-align: top;\n",
       "    }\n",
       "\n",
       "    .dataframe thead th {\n",
       "        text-align: right;\n",
       "    }\n",
       "</style>\n",
       "<table border=\"1\" class=\"dataframe\">\n",
       "  <thead>\n",
       "    <tr style=\"text-align: right;\">\n",
       "      <th></th>\n",
       "      <th>m1</th>\n",
       "      <th>m2</th>\n",
       "      <th>m3</th>\n",
       "      <th>theta1</th>\n",
       "      <th>theta2</th>\n",
       "      <th>theta3</th>\n",
       "      <th>phi1</th>\n",
       "      <th>phi2</th>\n",
       "      <th>phi3</th>\n",
       "    </tr>\n",
       "  </thead>\n",
       "  <tbody>\n",
       "    <tr>\n",
       "      <th>0</th>\n",
       "      <td>0.878324</td>\n",
       "      <td>0.545962</td>\n",
       "      <td>0.545962</td>\n",
       "      <td>1.863408</td>\n",
       "      <td>0.991207</td>\n",
       "      <td>2.457639</td>\n",
       "      <td>1.384957</td>\n",
       "      <td>3.784802</td>\n",
       "      <td>4.040242</td>\n",
       "    </tr>\n",
       "    <tr>\n",
       "      <th>1</th>\n",
       "      <td>0.878117</td>\n",
       "      <td>1.104428</td>\n",
       "      <td>1.104428</td>\n",
       "      <td>0.769727</td>\n",
       "      <td>2.363795</td>\n",
       "      <td>1.700020</td>\n",
       "      <td>1.648945</td>\n",
       "      <td>3.685422</td>\n",
       "      <td>4.030279</td>\n",
       "    </tr>\n",
       "    <tr>\n",
       "      <th>2</th>\n",
       "      <td>0.675593</td>\n",
       "      <td>1.058058</td>\n",
       "      <td>1.058058</td>\n",
       "      <td>1.027554</td>\n",
       "      <td>0.465668</td>\n",
       "      <td>1.023750</td>\n",
       "      <td>4.456063</td>\n",
       "      <td>1.964898</td>\n",
       "      <td>5.262472</td>\n",
       "    </tr>\n",
       "    <tr>\n",
       "      <th>3</th>\n",
       "      <td>0.879564</td>\n",
       "      <td>0.503908</td>\n",
       "      <td>0.503908</td>\n",
       "      <td>0.993099</td>\n",
       "      <td>0.617508</td>\n",
       "      <td>1.664348</td>\n",
       "      <td>3.850343</td>\n",
       "      <td>0.312286</td>\n",
       "      <td>4.458507</td>\n",
       "    </tr>\n",
       "    <tr>\n",
       "      <th>4</th>\n",
       "      <td>0.170389</td>\n",
       "      <td>0.557611</td>\n",
       "      <td>0.557611</td>\n",
       "      <td>0.437703</td>\n",
       "      <td>1.273802</td>\n",
       "      <td>0.685492</td>\n",
       "      <td>4.043690</td>\n",
       "      <td>5.998511</td>\n",
       "      <td>0.963166</td>\n",
       "    </tr>\n",
       "    <tr>\n",
       "      <th>...</th>\n",
       "      <td>...</td>\n",
       "      <td>...</td>\n",
       "      <td>...</td>\n",
       "      <td>...</td>\n",
       "      <td>...</td>\n",
       "      <td>...</td>\n",
       "      <td>...</td>\n",
       "      <td>...</td>\n",
       "      <td>...</td>\n",
       "    </tr>\n",
       "    <tr>\n",
       "      <th>28795</th>\n",
       "      <td>0.498840</td>\n",
       "      <td>0.820627</td>\n",
       "      <td>0.820627</td>\n",
       "      <td>2.166811</td>\n",
       "      <td>1.148754</td>\n",
       "      <td>1.965408</td>\n",
       "      <td>0.446755</td>\n",
       "      <td>3.797749</td>\n",
       "      <td>3.174071</td>\n",
       "    </tr>\n",
       "    <tr>\n",
       "      <th>28796</th>\n",
       "      <td>0.536018</td>\n",
       "      <td>0.366925</td>\n",
       "      <td>0.366925</td>\n",
       "      <td>1.325790</td>\n",
       "      <td>0.792811</td>\n",
       "      <td>1.054982</td>\n",
       "      <td>4.943223</td>\n",
       "      <td>3.657907</td>\n",
       "      <td>0.424305</td>\n",
       "    </tr>\n",
       "    <tr>\n",
       "      <th>28797</th>\n",
       "      <td>1.357956</td>\n",
       "      <td>0.133390</td>\n",
       "      <td>0.133390</td>\n",
       "      <td>1.681619</td>\n",
       "      <td>1.438119</td>\n",
       "      <td>2.081518</td>\n",
       "      <td>1.590140</td>\n",
       "      <td>4.809988</td>\n",
       "      <td>6.048910</td>\n",
       "    </tr>\n",
       "    <tr>\n",
       "      <th>28798</th>\n",
       "      <td>0.308770</td>\n",
       "      <td>1.886322</td>\n",
       "      <td>1.886322</td>\n",
       "      <td>0.959626</td>\n",
       "      <td>0.709401</td>\n",
       "      <td>1.222471</td>\n",
       "      <td>1.496338</td>\n",
       "      <td>5.558786</td>\n",
       "      <td>4.593059</td>\n",
       "    </tr>\n",
       "    <tr>\n",
       "      <th>28799</th>\n",
       "      <td>0.450745</td>\n",
       "      <td>0.707347</td>\n",
       "      <td>0.707347</td>\n",
       "      <td>0.957684</td>\n",
       "      <td>0.608515</td>\n",
       "      <td>1.796518</td>\n",
       "      <td>4.197515</td>\n",
       "      <td>4.435825</td>\n",
       "      <td>5.275274</td>\n",
       "    </tr>\n",
       "  </tbody>\n",
       "</table>\n",
       "<p>28800 rows × 9 columns</p>\n",
       "</div>"
      ],
      "text/plain": [
       "             m1        m2        m3    theta1    theta2    theta3      phi1  \\\n",
       "0      0.878324  0.545962  0.545962  1.863408  0.991207  2.457639  1.384957   \n",
       "1      0.878117  1.104428  1.104428  0.769727  2.363795  1.700020  1.648945   \n",
       "2      0.675593  1.058058  1.058058  1.027554  0.465668  1.023750  4.456063   \n",
       "3      0.879564  0.503908  0.503908  0.993099  0.617508  1.664348  3.850343   \n",
       "4      0.170389  0.557611  0.557611  0.437703  1.273802  0.685492  4.043690   \n",
       "...         ...       ...       ...       ...       ...       ...       ...   \n",
       "28795  0.498840  0.820627  0.820627  2.166811  1.148754  1.965408  0.446755   \n",
       "28796  0.536018  0.366925  0.366925  1.325790  0.792811  1.054982  4.943223   \n",
       "28797  1.357956  0.133390  0.133390  1.681619  1.438119  2.081518  1.590140   \n",
       "28798  0.308770  1.886322  1.886322  0.959626  0.709401  1.222471  1.496338   \n",
       "28799  0.450745  0.707347  0.707347  0.957684  0.608515  1.796518  4.197515   \n",
       "\n",
       "           phi2      phi3  \n",
       "0      3.784802  4.040242  \n",
       "1      3.685422  4.030279  \n",
       "2      1.964898  5.262472  \n",
       "3      0.312286  4.458507  \n",
       "4      5.998511  0.963166  \n",
       "...         ...       ...  \n",
       "28795  3.797749  3.174071  \n",
       "28796  3.657907  0.424305  \n",
       "28797  4.809988  6.048910  \n",
       "28798  5.558786  4.593059  \n",
       "28799  4.435825  5.275274  \n",
       "\n",
       "[28800 rows x 9 columns]"
      ]
     },
     "execution_count": 158,
     "metadata": {},
     "output_type": "execute_result"
    }
   ],
   "source": [
    "datadf.iloc[:,:-1]"
   ]
  },
  {
   "cell_type": "code",
   "execution_count": 159,
   "metadata": {},
   "outputs": [
    {
     "data": {
      "image/png": "[encoded data removed]",
      "text/plain": [
       "<Figure size 1152x576 with 9 Axes>"
      ]
     },
     "metadata": {
      "needs_background": "light"
     },
     "output_type": "display_data"
    }
   ],
   "source": [
    "datadf.iloc[:,:-1].plot(kind='hist', subplots=True, density=1, layout=(\n",
    "    3, 3), bins=30, figsize=(16, 8), sharex=False)\n",
    "plt.show()\n"
   ]
  },
  {
   "cell_type": "markdown",
   "metadata": {},
   "source": [
    "Class definition to creat the hamiltonian matrix."
   ]
  },
  {
   "cell_type": "code",
   "execution_count": 112,
   "metadata": {},
   "outputs": [],
   "source": [
    "### class to define the hamiltonian\n",
    "class lattice:\n",
    "    def __init__(self, l_cell, n_cell,s_cell, hopping, n_sites,dim_h,mu,u_int):\n",
    "        '''\n",
    "        This function will initialize the object and set the\n",
    "        parameters:\n",
    "        parameters:\n",
    "            self(object): object\n",
    "            l_cell(int):  number of unit cell\n",
    "            n_cell(int): total number of unit cells\n",
    "            hopping(float): nn nearest neighbour hopping\n",
    "            n_sites(int): number of sites in the lattice\n",
    "            dim_h(int): dimensionality of the hamiltonian matrix\n",
    "            mu(float): chemical potential\n",
    "            u_int(float): interaction strength\n",
    "        '''\n",
    "        self.l_cell = l_cell\n",
    "        self.n_cell = n_cell\n",
    "        self.s_cell = s_cell\n",
    "        self.hopping = hopping\n",
    "        self.n_sites = n_sites\n",
    "        self.dim_h = dim_h\n",
    "        self.mu = mu\n",
    "        self.u_int = u_int\n",
    "\n",
    "    ## this function will create the square lattice for\n",
    "    ## the unit cells\n",
    "    def neighbour(self):\n",
    "        '''\n",
    "        This function will create the neighbour table with\n",
    "        periodic boundary conditions\n",
    "        parameters:\n",
    "            None\n",
    "        return:\n",
    "            None\n",
    "        '''\n",
    "        def sip(x): return (x+1) % self.l_cell\n",
    "        def sim(x): return (x-1+self.l_cell) % self.l_cell\n",
    "        ri, li, ui, di, rui, dli = [], [], [], [], [], []\n",
    "        for j in range(n_cell):\n",
    "            yi, xi = divmod(j, self.l_cell)\n",
    "            ri.append(sip(xi)+yi*self.l_cell)\n",
    "            li.append(sim(xi)+yi*self.l_cell)\n",
    "            ui.append(xi+sip(yi)*self.l_cell)\n",
    "            di.append(xi+sim(yi)*self.l_cell)\n",
    "            rui.append(sip(xi)+sip(yi)*self.l_cell)\n",
    "            dli.append(sim(xi)+sim(yi)*self.l_cell)\n",
    "        self.right = np.array(ri, dtype='int')\n",
    "        self.left = np.array(li, dtype='int')\n",
    "        self.up = np.array(ui, dtype='int')\n",
    "        self.down = np.array(di, dtype='int')\n",
    "        self.right_up = np.array(rui, dtype='int')\n",
    "        self.left_down = np.array(dli, dtype='int')\n"
   ]
  },
  {
   "cell_type": "code",
   "execution_count": 113,
   "metadata": {},
   "outputs": [],
   "source": [
    "## defining the class for the hamiltonian \n",
    "## it uses lattice as the parent class\n",
    "class Hamiltonian(lattice):\n",
    "    ## initializing the object\n",
    "    def __init(self,l_cell,n_cell,s_cell,hopping,n_sites,dim_h,mu,u_int):\n",
    "        \n",
    "        ## using init of the parent class\n",
    "        super(Hamiltonian, self).__init__(l_cell, n_cell, s_cell, hopping,n_sites, dim_h, mu, u_int)\n",
    "                                          \n",
    "        \n",
    "\n",
    "    ## construct the hamiltonian matrix\n",
    "    def hamunitcell(self):\n",
    "        '''\n",
    "        This function will initialize the elements of the matrix only within the unit cell.\n",
    "        Hopping outside the unit cells is not allowed\n",
    "        0-->1, 0-->2, 1-->0,1--->2, 2--->0, 2-->1\n",
    "        parameters:\n",
    "            self(object): An instance of the class\n",
    "        return :\n",
    "            hammat(matrix): the incomplete hamiltonian matrix\n",
    "        '''\n",
    "        hammat = np.zeros((self.dim_h,self.dim_h))\n",
    "\n",
    "        for i in range(self.n_cell):\n",
    "            si0 = int(self.s_cell*i) ; si0n = int(si0 + (self.s_cell*self.n_cell))\n",
    "            si1 = int(si0 + 1) ; si1n = int(si1 + (self.s_cell*self.n_cell))\n",
    "            si2 = int(si0+2) ; si2n = int(si2 + (self.s_cell*self.n_cell))\n",
    "            \n",
    "            #print(f'si0: {si0} si0n: {si0n}')\n",
    "            ## setting the bonds inside the unit cell\n",
    "            hammat[si0, si1] = -self.hopping # up spin\n",
    "            hammat[si0n, si1n] = -self.hopping # down spin\n",
    "            hammat[si0, si2] = -self.hopping  # up spin\n",
    "            hammat[si0n, si2n] = -self.hopping # down spin\n",
    "\n",
    "            hammat[si1,si0] = -self.hopping # up spin\n",
    "            hammat[si1n, si0n] = -self.hopping # down spin\n",
    "            hammat[si1n,si2n] = -self.hopping # up spin\n",
    "            hammat[si1n, si2n] = -self.hopping # down spin\n",
    "\n",
    "            hammat[si2, si0] = -self.hopping # up spin\n",
    "            hammat[si2n, si0n] = -self.hopping # down spin\n",
    "            hammat[si2, si1] = -self.hopping # up spin\n",
    "            hammat[si2n, si1n] = -self.hopping  # down spin\n",
    "\n",
    "        return hammat\n",
    "\n",
    "    ### initialize hopping outside the unit cells\n",
    "    def hamOutUnitCell(self,hammat):\n",
    "        '''\n",
    "        This function will initialize hopping outside the unit cells\n",
    "        parameters:\n",
    "            self(object): Instance of the class\n",
    "        return:\n",
    "            None\n",
    "        '''\n",
    "        print(self.n_cell,self.n_sites)\n",
    "        for i in range(self.n_cell):\n",
    "            \n",
    "            ## sites in a given unit cell\n",
    "            s0,s1,s2 = int(self.s_cell*i),int(self.s_cell*i)+1,int(self.s_cell*i)+2\n",
    "            s0n,s1n,s2n = s0+int(self.s_cell*self.n_cell),s1+int(self.s_cell*self.n_cell) , s2+int(self.s_cell*self.n_cell) \n",
    "            \n",
    "            ### right,left,up,down neighbours of the unitcell\n",
    "            ri, li, ui, di = int(self.right[i]), int(self.left[i]), int(self.up[i]), int(self.down[i])\n",
    "            \n",
    "            ## allowed neighbours of the site 0 of the unit cell\n",
    "            s0l = int(self.s_cell*li+1); s0ld = int(self.s_cell*self.left_down[i]+2)\n",
    "            s0ln = int(s0l+(self.n_cell*self.s_cell));s0ldn = int(s0ld + (self.n_cell*self.s_cell))\n",
    "\n",
    "            ## allowed neighbours of the site 1 of the unit cell\n",
    "            s1r = int(self.s_cell*ri); s1d = int(self.s_cell*di+2)\n",
    "            s1rn = int(s1r + (self.s_cell*self.n_cell)) ; s1dn = int(s1d + (self.s_cell*self.n_cell))\n",
    "\n",
    "            ## allowed neighbours of the site 2 of the unit cell\n",
    "            s2u = int(self.s_cell*ui+1); s2ur = int(self.s_cell*self.right_up[i])\n",
    "            s2un = int(s2u +(self.s_cell * self.n_cell)) ; s2urn = int(s2ur + (self.s_cell*self.n_cell))\n",
    "\n",
    "            ### setting up the bonds outside the unitcell\n",
    "            ## for the 1st site in the unitcell\n",
    "\n",
    "            hammat[s0,s0l] = -self.hopping; hammat[s0n,s0ln] = -self.hopping\n",
    "            hammat[s0l,s0] = -self.hopping ; hammat[s0ln,s0n] = -self.hopping\n",
    "\n",
    "            hammat[s0,s0ld] = -self.hopping ; hammat[s0n,s0ldn] = -self.hopping\n",
    "            hammat[s0ld,s0] = -self.hopping ; hammat[s0ldn,s0n] = -self.hopping\n",
    "\n",
    "            ## for the 2nd site in the unit cell\n",
    "            hammat[s1,s1r] = -self.hopping ; hammat[s1n,s1rn] = -self.hopping\n",
    "            hammat[s1r,s1] = -self.hopping ; hammat[s1rn,s1n] = -self.hopping\n",
    "\n",
    "            hammat[s1,s1d] = -self.hopping ; hammat[s1n,s1dn] = -self.hopping\n",
    "            hammat[s1d,s1] = -self.hopping ; hammat[s1dn,s1n]  = -self.hopping\n",
    "\n",
    "            ## for the 3rd site in the unit cell\n",
    "            hammat[s2,s2u] = -self.hopping  ; hammat[s2n,s2un] = -self.hopping\n",
    "            hammat[s2u,s2] = -self.hopping ; hammat[s2un,s2n]  = -self.hopping\n",
    "\n",
    "            hammat[s2,s2ur] = -self.hopping ; hammat[s2n,s2urn] = -self.hopping\n",
    "            hammat[s2ur,s2] = -self.hopping ; hammat[s2urn,s2n] = -self.hopping\n",
    "\n",
    "        self.ham = hammat\n",
    "\n",
    "    ### write the full hamiltonian\n",
    "    def haminit(self):\n",
    "        '''\n",
    "        This function will construct the full hamiltonian in two steps:\n",
    "        1. In first step it will sep up the hamiltonian for sites in the unit cell\n",
    "        2. In the second step the hopping outside the unit cell will be set up.\n",
    "        parameters:\n",
    "            self(object): The class instance\n",
    "        return:\n",
    "            None\n",
    "        '''\n",
    "        mat = self.hamunitcell()\n",
    "        self.hamOutUnitCell(mat)\n",
    "\n",
    "    ### diagonalize the hamiltonian\n",
    "    def diag(self):\n",
    "        '''\n",
    "        This function will diagonalize the hamiltonian\n",
    "        parameters:\n",
    "            self(object): Instance of the class\n",
    "        return:\n",
    "            evals (float): Eigenvalues of the hamiltonian\n",
    "            evecs(float): eigenvectors of the hamiltonian\n",
    "        '''\n",
    "        evals,evecs = lng.eigh(self.ham)\n",
    "        return evals,evecs\n",
    "\n"
   ]
  },
  {
   "cell_type": "code",
   "execution_count": 116,
   "metadata": {},
   "outputs": [],
   "source": [
    "l_cell = int(12) # number of unit cell in x\n",
    "n_cell = int(l_cell**2) # total number of unit cells\n",
    "s_cell  = int(3) # number of sites in the unit cell\n",
    "n_sites = int(s_cell*n_cell) # total number of site (for one spin type)\n",
    "hopping = 1.0   # hopping strength\n",
    "dim_h = int(2*n_sites)  # dimensionality of the matrix\n",
    "mu = 0.0  ## chemical potential\n",
    "u_int = 0.0 ## interaction strength"
   ]
  },
  {
   "cell_type": "code",
   "execution_count": 111,
   "metadata": {},
   "outputs": [
    {
     "name": "stdout",
     "output_type": "stream",
     "text": [
      "144 432\n"
     ]
    }
   ],
   "source": [
    "ham2 = Hamiltonian(l_cell,n_cell,s_cell,hopping,n_sites,dim_h,mu,u_int)\n",
    "ham2.neighbour()\n",
    "\n",
    "ham2.haminit()\n",
    "\n",
    "evl,evcs = ham2.diag()\n"
   ]
  },
  {
   "cell_type": "code",
   "execution_count": 112,
   "metadata": {},
   "outputs": [
    {
     "data": {
      "text/plain": [
       "-3.9999999999999996"
      ]
     },
     "execution_count": 112,
     "metadata": {},
     "output_type": "execute_result"
    }
   ],
   "source": [
    "evl.min()\n"
   ]
  },
  {
   "cell_type": "code",
   "execution_count": 113,
   "metadata": {},
   "outputs": [
    {
     "data": {
      "image/png": "[encoded data removed]",
      "text/plain": [
       "<Figure size 432x288 with 1 Axes>"
      ]
     },
     "metadata": {
      "needs_background": "light"
     },
     "output_type": "display_data"
    }
   ],
   "source": [
    "plt.hist(evl,bins=32,density=1)\n",
    "plt.show()\n"
   ]
  },
  {
   "cell_type": "code",
   "execution_count": 114,
   "metadata": {},
   "outputs": [
    {
     "data": {
      "text/plain": [
       "count    864.000000\n",
       "mean       0.000000\n",
       "std        2.001158\n",
       "min       -4.000000\n",
       "25%       -2.000000\n",
       "50%        0.505971\n",
       "75%        2.000000\n",
       "max        2.000000\n",
       "dtype: float64"
      ]
     },
     "execution_count": 114,
     "metadata": {},
     "output_type": "execute_result"
    }
   ],
   "source": [
    "pd.Series(evl).describe()"
   ]
  },
  {
   "cell_type": "code",
   "execution_count": 160,
   "metadata": {},
   "outputs": [
    {
     "data": {
      "text/plain": [
       "(2+3j)"
      ]
     },
     "execution_count": 160,
     "metadata": {},
     "output_type": "execute_result"
    }
   ],
   "source": [
    "2+3j"
   ]
  },
  {
   "cell_type": "code",
   "execution_count": null,
   "metadata": {},
   "outputs": [],
   "source": []
  },
  {
   "cell_type": "code",
   "execution_count": 24,
   "metadata": {},
   "outputs": [],
   "source": [
    "x,y = [] , []\n",
    "xi = np.linspace(0,1,100)\n",
    "yi = np.sin(2*np.pi*xi) + np.random.uniform(0,1)"
   ]
  },
  {
   "cell_type": "code",
   "execution_count": 25,
   "metadata": {},
   "outputs": [],
   "source": [
    "for i,j in itertools.product(xi,yi):\n",
    "    x.append(i)\n",
    "    y.append(j)"
   ]
  },
  {
   "cell_type": "code",
   "execution_count": 27,
   "metadata": {},
   "outputs": [
    {
     "data": {
      "text/plain": [
       "<matplotlib.collections.PathCollection at 0x1368c5400>"
      ]
     },
     "execution_count": 27,
     "metadata": {},
     "output_type": "execute_result"
    },
    {
     "data": {
      "image/png": "[encoded data removed]",
      "text/plain": [
       "<Figure size 432x288 with 1 Axes>"
      ]
     },
     "metadata": {
      "needs_background": "light"
     },
     "output_type": "display_data"
    }
   ],
   "source": [
    "plt.scatter(x,y)"
   ]
  },
  {
   "cell_type": "code",
   "execution_count": 29,
   "metadata": {},
   "outputs": [],
   "source": [
    "data = pd.DataFrame({'x':x,'y':y})"
   ]
  },
  {
   "cell_type": "code",
   "execution_count": 31,
   "metadata": {},
   "outputs": [
    {
     "data": {
      "text/html": [
       "<div>\n",
       "<style scoped>\n",
       "    .dataframe tbody tr th:only-of-type {\n",
       "        vertical-align: middle;\n",
       "    }\n",
       "\n",
       "    .dataframe tbody tr th {\n",
       "        vertical-align: top;\n",
       "    }\n",
       "\n",
       "    .dataframe thead th {\n",
       "        text-align: right;\n",
       "    }\n",
       "</style>\n",
       "<table border=\"1\" class=\"dataframe\">\n",
       "  <thead>\n",
       "    <tr style=\"text-align: right;\">\n",
       "      <th></th>\n",
       "      <th>x</th>\n",
       "      <th>y</th>\n",
       "    </tr>\n",
       "  </thead>\n",
       "  <tbody>\n",
       "    <tr>\n",
       "      <th>0</th>\n",
       "      <td>0.0</td>\n",
       "      <td>0.617408</td>\n",
       "    </tr>\n",
       "    <tr>\n",
       "      <th>1</th>\n",
       "      <td>0.0</td>\n",
       "      <td>0.680832</td>\n",
       "    </tr>\n",
       "    <tr>\n",
       "      <th>2</th>\n",
       "      <td>0.0</td>\n",
       "      <td>0.744001</td>\n",
       "    </tr>\n",
       "    <tr>\n",
       "      <th>3</th>\n",
       "      <td>0.0</td>\n",
       "      <td>0.806660</td>\n",
       "    </tr>\n",
       "    <tr>\n",
       "      <th>4</th>\n",
       "      <td>0.0</td>\n",
       "      <td>0.868556</td>\n",
       "    </tr>\n",
       "    <tr>\n",
       "      <th>...</th>\n",
       "      <td>...</td>\n",
       "      <td>...</td>\n",
       "    </tr>\n",
       "    <tr>\n",
       "      <th>9995</th>\n",
       "      <td>1.0</td>\n",
       "      <td>0.366260</td>\n",
       "    </tr>\n",
       "    <tr>\n",
       "      <th>9996</th>\n",
       "      <td>1.0</td>\n",
       "      <td>0.428157</td>\n",
       "    </tr>\n",
       "    <tr>\n",
       "      <th>9997</th>\n",
       "      <td>1.0</td>\n",
       "      <td>0.490816</td>\n",
       "    </tr>\n",
       "    <tr>\n",
       "      <th>9998</th>\n",
       "      <td>1.0</td>\n",
       "      <td>0.553984</td>\n",
       "    </tr>\n",
       "    <tr>\n",
       "      <th>9999</th>\n",
       "      <td>1.0</td>\n",
       "      <td>0.617408</td>\n",
       "    </tr>\n",
       "  </tbody>\n",
       "</table>\n",
       "<p>10000 rows × 2 columns</p>\n",
       "</div>"
      ],
      "text/plain": [
       "        x         y\n",
       "0     0.0  0.617408\n",
       "1     0.0  0.680832\n",
       "2     0.0  0.744001\n",
       "3     0.0  0.806660\n",
       "4     0.0  0.868556\n",
       "...   ...       ...\n",
       "9995  1.0  0.366260\n",
       "9996  1.0  0.428157\n",
       "9997  1.0  0.490816\n",
       "9998  1.0  0.553984\n",
       "9999  1.0  0.617408\n",
       "\n",
       "[10000 rows x 2 columns]"
      ]
     },
     "execution_count": 31,
     "metadata": {},
     "output_type": "execute_result"
    }
   ],
   "source": [
    "data.loc[]"
   ]
  },
  {
   "cell_type": "code",
   "execution_count": 32,
   "metadata": {},
   "outputs": [],
   "source": [
    "import pandas as pd \n",
    "import numpy as np"
   ]
  },
  {
   "cell_type": "code",
   "execution_count": 33,
   "metadata": {},
   "outputs": [],
   "source": [
    "data = pd.read_csv('~/Downloads/sendfile.csv',index_col=[0])"
   ]
  },
  {
   "cell_type": "code",
   "execution_count": 44,
   "metadata": {},
   "outputs": [
    {
     "data": {
      "text/html": [
       "<div>\n",
       "<style scoped>\n",
       "    .dataframe tbody tr th:only-of-type {\n",
       "        vertical-align: middle;\n",
       "    }\n",
       "\n",
       "    .dataframe tbody tr th {\n",
       "        vertical-align: top;\n",
       "    }\n",
       "\n",
       "    .dataframe thead th {\n",
       "        text-align: right;\n",
       "    }\n",
       "</style>\n",
       "<table border=\"1\" class=\"dataframe\">\n",
       "  <thead>\n",
       "    <tr style=\"text-align: right;\">\n",
       "      <th></th>\n",
       "      <th>lambda</th>\n",
       "      <th>t</th>\n",
       "      <th>rhoS</th>\n",
       "      <th>Dipole</th>\n",
       "    </tr>\n",
       "  </thead>\n",
       "  <tbody>\n",
       "    <tr>\n",
       "      <th>0</th>\n",
       "      <td>0.0</td>\n",
       "      <td>0.05</td>\n",
       "      <td>0.000000</td>\n",
       "      <td>0.001203</td>\n",
       "    </tr>\n",
       "    <tr>\n",
       "      <th>1</th>\n",
       "      <td>0.0</td>\n",
       "      <td>0.10</td>\n",
       "      <td>0.000000</td>\n",
       "      <td>0.004255</td>\n",
       "    </tr>\n",
       "    <tr>\n",
       "      <th>2</th>\n",
       "      <td>0.0</td>\n",
       "      <td>0.15</td>\n",
       "      <td>0.000116</td>\n",
       "      <td>0.008566</td>\n",
       "    </tr>\n",
       "    <tr>\n",
       "      <th>3</th>\n",
       "      <td>0.0</td>\n",
       "      <td>0.20</td>\n",
       "      <td>0.005363</td>\n",
       "      <td>0.012735</td>\n",
       "    </tr>\n",
       "    <tr>\n",
       "      <th>4</th>\n",
       "      <td>0.0</td>\n",
       "      <td>0.25</td>\n",
       "      <td>0.010746</td>\n",
       "      <td>0.014494</td>\n",
       "    </tr>\n",
       "  </tbody>\n",
       "</table>\n",
       "</div>"
      ],
      "text/plain": [
       "   lambda     t      rhoS    Dipole\n",
       "0     0.0  0.05  0.000000  0.001203\n",
       "1     0.0  0.10  0.000000  0.004255\n",
       "2     0.0  0.15  0.000116  0.008566\n",
       "3     0.0  0.20  0.005363  0.012735\n",
       "4     0.0  0.25  0.010746  0.014494"
      ]
     },
     "execution_count": 44,
     "metadata": {},
     "output_type": "execute_result"
    }
   ],
   "source": [
    "data.head()"
   ]
  },
  {
   "cell_type": "code",
   "execution_count": 66,
   "metadata": {},
   "outputs": [],
   "source": [
    "x=data['lambda']\n",
    "y=data['t']\n",
    "rh = data['rhoS']\n",
    "di = data['Dipole']\n",
    "xit=x.unique()\n",
    "yit=y.unique()"
   ]
  },
  {
   "cell_type": "code",
   "execution_count": 125,
   "metadata": {},
   "outputs": [],
   "source": [
    "xi=np.array(x).reshape(20,20)\n",
    "yi=np.array(y).reshape(20,20)\n",
    "ci1 = np.array(rh).reshape(20,20)\n",
    "ci2 = np.array(di).reshape(20,20)\n"
   ]
  },
  {
   "cell_type": "code",
   "execution_count": 150,
   "metadata": {},
   "outputs": [
    {
     "data": {
      "image/png": "[encoded data removed]",
      "text/plain": [
       "<Figure size 1008x432 with 4 Axes>"
      ]
     },
     "metadata": {
      "needs_background": "light"
     },
     "output_type": "display_data"
    }
   ],
   "source": [
    "f,ax=plt.subplots(1,2,figsize=(14,6))\n",
    "f1=ax[0].imshow(ci1.T,origin='lower',cmap='afmhot',interpolation='spline36',extent=[0,1,0,1])\n",
    "ax[0].set_xlabel(r'$\\frac{\\lambda}{U}$',fontsize=20)\n",
    "ax[0].set_ylabel(r'$\\frac{t}{U}$', fontsize=20)\n",
    "ax[0].set_title('Super fluid density',fontsize=22)\n",
    "plt.colorbar(f1, ax=ax[0], shrink=0.88)\n",
    "f2=ax[1].imshow(ci2.T, origin='lower', cmap='afmhot',\n",
    "             interpolation='spline36', extent=[0, 1, 0, 1])\n",
    "ax[1].set_xlabel(r'$\\frac{\\lambda}{U}$', fontsize=20)\n",
    "ax[1].set_ylabel(r'$\\frac{t}{U}$', fontsize=20)\n",
    "ax[1].set_title('Dipole order parameter', fontsize=22)\n",
    "plt.colorbar(f2, ax=ax[1],shrink=0.88)\n",
    "plt.savefig('plotop.eps',dpi=400,bbox_inches='tight')\n",
    "plt.show()\n"
   ]
  },
  {
   "cell_type": "code",
   "execution_count": 104,
   "metadata": {},
   "outputs": [
    {
     "data": {
      "text/plain": [
       "array([0.  , 0.05, 0.1 , 0.15, 0.2 , 0.25, 0.3 , 0.35, 0.4 , 0.45, 0.5 ,\n",
       "       0.55, 0.6 , 0.65, 0.7 , 0.75, 0.8 , 0.85, 0.9 , 0.95])"
      ]
     },
     "execution_count": 104,
     "metadata": {},
     "output_type": "execute_result"
    }
   ],
   "source": [
    "xit"
   ]
  },
  {
   "cell_type": "code",
   "execution_count": null,
   "metadata": {},
   "outputs": [],
   "source": []
  }
 ],
 "metadata": {
  "interpreter": {
   "hash": "142c5f550c5dca9f67c8c920311c6ac8b8cbcb1ffb5f20302b2d142b28b10006"
  },
  "kernelspec": {
   "display_name": "Python 3.8.6 ('python38-demo-v2')",
   "language": "python",
   "name": "python3"
  },
  "language_info": {
   "codemirror_mode": {
    "name": "ipython",
    "version": 3
   },
   "file_extension": ".py",
   "mimetype": "text/x-python",
   "name": "python",
   "nbconvert_exporter": "python",
   "pygments_lexer": "ipython3",
   "version": "3.8.6"
  }
 },
 "nbformat": 4,
 "nbformat_minor": 4
}
