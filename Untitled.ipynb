{
 "cells": [
  {
   "cell_type": "code",
   "execution_count": 1,
   "metadata": {},
   "outputs": [],
   "source": [
    "import pandas as pd\n",
    "import numpy as np\n",
    "import matplotlib.pyplot as plt\n",
    "from numpy import linalg as lng\n",
    "import glob\n",
    "import itertools\n",
    "import seaborn as sns"
   ]
  },
  {
   "cell_type": "code",
   "execution_count": 112,
   "metadata": {},
   "outputs": [
    {
     "data": {
      "image/png": "[encoded data removed]",
      "text/plain": [
       "<Figure size 1152x576 with 9 Axes>"
      ]
     },
     "metadata": {
      "needs_background": "light"
     },
     "output_type": "display_data"
    }
   ],
   "source": [
    "datadf.iloc[:,:-1].plot(kind='hist', subplots=True, density=1, layout=(\n",
    "    3, 3), bins=30, figsize=(16, 8), sharex=False)\n",
    "plt.show()\n"
   ]
  },
  {
   "cell_type": "markdown",
   "metadata": {},
   "source": [
    "Class definition to creat the hamiltonian matrix."
   ]
  },
  {
   "cell_type": "code",
   "execution_count": 2,
   "metadata": {},
   "outputs": [],
   "source": [
    "### class to define the hamiltonian\n",
    "class lattice:\n",
    "    def __init__(self, l_cell, n_cell,s_cell, hopping, n_sites,dim_h,mu,u_int):\n",
    "        '''\n",
    "        This function will initialize the object and set the\n",
    "        parameters:\n",
    "        parameters:\n",
    "            self(object): object\n",
    "            l_cell(int):  number of unit cell\n",
    "            n_cell(int): total number of unit cells\n",
    "            hopping(float): nn nearest neighbour hopping\n",
    "            n_sites(int): number of sites in the lattice\n",
    "            dim_h(int): dimensionality of the hamiltonian matrix\n",
    "            mu(float): chemical potential\n",
    "            u_int(float): interaction strength\n",
    "        '''\n",
    "        self.l_cell = l_cell\n",
    "        self.n_cell = n_cell\n",
    "        self.s_cell = s_cell\n",
    "        self.hopping = hopping\n",
    "        self.n_sites = n_sites\n",
    "        self.dim_h = dim_h\n",
    "        self.mu = mu\n",
    "        self.u_int = u_int\n",
    "\n",
    "    ## this function will create the square lattice for\n",
    "    ## the unit cells\n",
    "    def neighbour(self):\n",
    "        '''\n",
    "        This function will create the neighbour table with\n",
    "        periodic boundary conditions\n",
    "        parameters:\n",
    "            None\n",
    "        return:\n",
    "            None\n",
    "        '''\n",
    "        def sip(x): return (x+1) % self.l_cell\n",
    "        def sim(x): return (x-1+self.l_cell) % self.l_cell\n",
    "        ri, li, ui, di, rui, dli = [], [], [], [], [], []\n",
    "        for j in range(n_cell):\n",
    "            yi, xi = divmod(j, self.l_cell)\n",
    "            ri.append(sip(xi)+yi*self.l_cell)\n",
    "            li.append(sim(xi)+yi*self.l_cell)\n",
    "            ui.append(xi+sip(yi)*self.l_cell)\n",
    "            di.append(xi+sim(yi)*self.l_cell)\n",
    "            rui.append(sip(xi)+sip(yi)*self.l_cell)\n",
    "            dli.append(sim(xi)+sim(yi)*self.l_cell)\n",
    "        self.right = np.array(ri, dtype='int')\n",
    "        self.left = np.array(li, dtype='int')\n",
    "        self.up = np.array(ui, dtype='int')\n",
    "        self.down = np.array(di, dtype='int')\n",
    "        self.right_up = np.array(rui, dtype='int')\n",
    "        self.left_down = np.array(dli, dtype='int')\n"
   ]
  },
  {
   "cell_type": "code",
   "execution_count": 3,
   "metadata": {},
   "outputs": [],
   "source": [
    "## defining the class for the hamiltonian \n",
    "## it uses lattice as the parent class\n",
    "class Hamiltonian(lattice):\n",
    "    ## initializing the object\n",
    "    def __init(self,l_cell,n_cell,s_cell,hopping,n_sites,dim_h,mu,u_int):\n",
    "        \n",
    "        ## using init of the parent class\n",
    "        super(Hamiltonian, self).__init__(l_cell, n_cell, s_cell, hopping,n_sites, dim_h, mu, u_int)\n",
    "                                          \n",
    "        \n",
    "\n",
    "    ## construct the hamiltonian matrix\n",
    "    def hamunitcell(self):\n",
    "        '''\n",
    "        This function will initialize the elements of the matrix only within the unit cell.\n",
    "        Hopping outside the unit cells is not allowed\n",
    "        0-->1, 0-->2, 1-->0,1--->2, 2--->0, 2-->1\n",
    "        parameters:\n",
    "            self(object): An instance of the class\n",
    "        return :\n",
    "            hammat(matrix): the incomplete hamiltonian matrix\n",
    "        '''\n",
    "        hammat = np.zeros((self.dim_h,self.dim_h),dtype='complex')\n",
    "\n",
    "        for i in range(self.n_cell):\n",
    "            si0 = int(self.s_cell*i) ; si0n = int(si0 + (self.s_cell*self.n_cell))\n",
    "            si1 = int(si0 + 1) ; si1n = int(si1 + (self.s_cell*self.n_cell))\n",
    "            si2 = int(si0+2) ; si2n = int(si2 + (self.s_cell*self.n_cell))\n",
    "            \n",
    "            #print(f'si0: {si0} si0n: {si0n}')\n",
    "            ## setting the bonds inside the unit cell\n",
    "            hammat[si0, si1] = -self.hopping # up spin\n",
    "            hammat[si0n, si1n] = -self.hopping # down spin\n",
    "            hammat[si0, si2] = -self.hopping  # up spin\n",
    "            hammat[si0n, si2n] = -self.hopping # down spin\n",
    "\n",
    "            hammat[si1,si0] = -self.hopping # up spin\n",
    "            hammat[si1n, si0n] = -self.hopping # down spin\n",
    "            hammat[si1n,si2n] = -self.hopping # up spin\n",
    "            hammat[si1n, si2n] = -self.hopping # down spin\n",
    "\n",
    "            hammat[si2, si0] = -self.hopping # up spin\n",
    "            hammat[si2n, si0n] = -self.hopping # down spin\n",
    "            hammat[si2, si1] = -self.hopping # up spin\n",
    "            hammat[si2n, si1n] = -self.hopping  # down spin\n",
    "\n",
    "        return hammat\n",
    "\n",
    "    ### initialize hopping outside the unit cells\n",
    "    def hamOutUnitCell(self,hammat):\n",
    "        '''\n",
    "        This function will initialize hopping outside the unit cells\n",
    "        parameters:\n",
    "            self(object): Instance of the class\n",
    "        return:\n",
    "            None\n",
    "        '''\n",
    "        print(self.n_cell,self.n_sites)\n",
    "        for i in range(self.n_cell):\n",
    "            \n",
    "            ## sites in a given unit cell\n",
    "            s0,s1,s2 = int(self.s_cell*i),int(self.s_cell*i)+1,int(self.s_cell*i)+2\n",
    "            s0n,s1n,s2n = s0+int(self.s_cell*self.n_cell),s1+int(self.s_cell*self.n_cell) , s2+int(self.s_cell*self.n_cell) \n",
    "            \n",
    "            ### right,left,up,down neighbours of the unitcell\n",
    "            ri, li, ui, di = int(self.right[i]), int(self.left[i]), int(self.up[i]), int(self.down[i])\n",
    "            \n",
    "            ## allowed neighbours of the site 0 of the unit cell\n",
    "            s0l = int(self.s_cell*li+1); s0ld = int(self.s_cell*self.left_down[i]+2)\n",
    "            s0ln = int(s0l+(self.n_cell*self.s_cell));s0ldn = int(s0ld + (self.n_cell*self.s_cell))\n",
    "\n",
    "            ## allowed neighbours of the site 1 of the unit cell\n",
    "            s1r = int(self.s_cell*ri); s1d = int(self.s_cell*di+2)\n",
    "            s1rn = int(s1r + (self.s_cell*self.n_cell)) ; s1dn = int(s1d + (self.s_cell*self.n_cell))\n",
    "\n",
    "            ## allowed neighbours of the site 2 of the unit cell\n",
    "            s2u = int(self.s_cell*ui+1); s2ur = int(self.s_cell*self.right_up[i])\n",
    "            s2un = int(s2u +(self.s_cell * self.n_cell)) ; s2urn = int(s2ur + (self.s_cell*self.n_cell))\n",
    "\n",
    "            ### setting up the bonds outside the unitcell\n",
    "            ## for the 1st site in the unitcell\n",
    "\n",
    "            hammat[s0,s0l] = -self.hopping; hammat[s0n,s0ln] = -self.hopping\n",
    "            hammat[s0l,s0] = -self.hopping ; hammat[s0ln,s0n] = -self.hopping\n",
    "\n",
    "            hammat[s0,s0ld] = -self.hopping ; hammat[s0n,s0ldn] = -self.hopping\n",
    "            hammat[s0ld,s0] = -self.hopping ; hammat[s0ldn,s0n] = -self.hopping\n",
    "\n",
    "            ## for the 2nd site in the unit cell\n",
    "            hammat[s1,s1r] = -self.hopping ; hammat[s1n,s1rn] = -self.hopping\n",
    "            hammat[s1r,s1] = -self.hopping ; hammat[s1rn,s1n] = -self.hopping\n",
    "\n",
    "            hammat[s1,s1d] = -self.hopping ; hammat[s1n,s1dn] = -self.hopping\n",
    "            hammat[s1d,s1] = -self.hopping ; hammat[s1dn,s1n]  = -self.hopping\n",
    "\n",
    "            ## for the 3rd site in the unit cell\n",
    "            hammat[s2,s2u] = -self.hopping  ; hammat[s2n,s2un] = -self.hopping\n",
    "            hammat[s2u,s2] = -self.hopping ; hammat[s2un,s2n]  = -self.hopping\n",
    "\n",
    "            hammat[s2,s2ur] = -self.hopping ; hammat[s2n,s2urn] = -self.hopping\n",
    "            hammat[s2ur,s2] = -self.hopping ; hammat[s2urn,s2n] = -self.hopping\n",
    "\n",
    "        self.ham = hammat\n",
    "\n",
    "    ### write the full hamiltonian\n",
    "    def haminit(self):\n",
    "        '''\n",
    "        This function will construct the full hamiltonian in two steps:\n",
    "        1. In first step it will sep up the hamiltonian for sites in the unit cell\n",
    "        2. In the second step the hopping outside the unit cell will be set up.\n",
    "        parameters:\n",
    "            self(object): The class instance\n",
    "        return:\n",
    "            None\n",
    "        '''\n",
    "        mat = self.hamunitcell()\n",
    "        self.hamOutUnitCell(mat)\n",
    "\n",
    "    ### diagonalize the hamiltonian\n",
    "    def diag(self):\n",
    "        '''\n",
    "        This function will diagonalize the hamiltonian\n",
    "        parameters:\n",
    "            self(object): Instance of the class\n",
    "        return:\n",
    "            evals (float): Eigenvalues of the hamiltonian\n",
    "            evecs(float): eigenvectors of the hamiltonian\n",
    "        '''\n",
    "        evals,evecs = lng.eigh(self.ham)\n",
    "        return evals,evecs\n",
    "\n"
   ]
  },
  {
   "cell_type": "code",
   "execution_count": 20,
   "metadata": {},
   "outputs": [],
   "source": [
    "### class to obtain the files in the folder that we want to use\n",
    "class files:\n",
    "    \"\"\"\n",
    "    This is a class method to obtain the files inside the folder.\n",
    "    Since we are using the class method we don't have to create an \n",
    "    instance of the class to be able to use this method\n",
    "    \"\"\"\n",
    "    @classmethod\n",
    "    def getFiles(cls,file_path,pattern):\n",
    "        \"\"\"\n",
    "        This function will get the files inside the golder given the file_path and the\n",
    "        pattern we want to match\n",
    "        parameter:\n",
    "            cls (class)\n",
    "        return:\n",
    "            file_dict(dictionary): dictionary containing the temperature as the key\n",
    "                                    and value as the name of the file.    \n",
    "        \"\"\"\n",
    "        file_list = glob.glob(file_path+pattern)\n",
    "        file_list = file_list\n",
    "        n_files = len(file_list)\n",
    "\n",
    "        ## temporary variable to store the key and value pair\n",
    "        ki,vi  = [],[] # list to store the key and values\n",
    "        for j in file_list:\n",
    "            ki.append(j.split('temp')[1].split('_Uint')[0])\n",
    "            vi.append(j)\n",
    "        file_dict = dict(zip(np.array(ki,dtype='float'),vi))\n",
    "        return file_dict\n",
    "\n",
    "\n",
    "\n",
    "### class definition to incorporate the interacting part to the system\n",
    "class interaction(Hamiltonian):\n",
    "    ###Constructor for the object\n",
    "    def __init__(self,l_cell,n_cell,s_cell,hopping,n_sites,dim_h,mu,u_int,file_path,pattern):\n",
    "        \"\"\"\n",
    "        Constructor for the class.\n",
    "        parameters:\n",
    "            self(object): class instance\n",
    "            l_cell(integer): linear dimension of the lattice\n",
    "            n_cell(integer): number of  unit cells in the lattice (L*L)\n",
    "            s_cell(integer): number of sites in the unit cell\n",
    "            hopping(float): hopping strength\n",
    "            n_sites(integer): number of sites in the system (n_cell*s_cell)\n",
    "            dim_h(integer) : dimensionaity of the hamiltonian considering the spin up and spin down particles\n",
    "            u_int(float): interaction strength\n",
    "            file_path(string): location where the file is stores\n",
    "        return:\n",
    "            None\n",
    "        \"\"\"\n",
    "\n",
    "\n",
    "        super(interaction, self).__init__(l_cell, n_cell,\n",
    "                                          s_cell, hopping, n_sites, dim_h, mu, u_int)\n",
    "        self.file_path = file_path\n",
    "        self.pattern  = pattern\n",
    "\n",
    "    ### data files in the system in a location and given pattern\n",
    "    ### It also create a dictionary with files, temperature as key and file names as the value\n",
    "    def getFiles(self):\n",
    "        \"\"\"\n",
    "        This function will create a list of all the files present in the given file path\n",
    "        and given pattern.\n",
    "        parameters:\n",
    "            self(object): Instance of the class\n",
    "        return:\n",
    "            None\n",
    "        \"\"\"\n",
    "        file_list = glob.glob(self.file_path+self.pattern)\n",
    "        self.file_list = file_list\n",
    "        self.n_files = len(file_list)\n",
    "        \n",
    "        ## temporary variables to store keys and values\n",
    "        ki,fn = [],[]  \n",
    "        for j in self.file_list:\n",
    "            ki.append(j.split('temp')[1].split('_Uint')[0])\n",
    "            fn.append(j)\n",
    "        self.data_dict = dict(zip(np.array(ki,dtype='float'),fn))\n",
    "    \n",
    "    ### storing data of monte carlo variables into a dataframe \n",
    "    def datadf(self,file_t):\n",
    "        \"\"\"\n",
    "        This function will load the data and put them into a dataframe\n",
    "        parameters:\n",
    "            self(object): instance of the class\n",
    "            file_t(float): key/temperature of the data we want to use\n",
    "        return:\n",
    "            datadf(dataframe): dataframe holding data for a particular temperature\n",
    "        \"\"\"\n",
    "\n",
    "        data = pd.read_csv(self.data_dict[file_t], header=None)\n",
    "        data.columns = ['data']\n",
    "\n",
    "        \n",
    "        ### number of monte carlo configurations for each temperature\n",
    "        self.nmc = data.shape[0]\n",
    "\n",
    "        ## list to store the data from the files for sites in the unit cell\n",
    "        m0, m1, m2 = [], [], []\n",
    "        theta0, theta1, theta2 = [],[],[]\n",
    "        phi0, phi1, phi2 = [],[],[]\n",
    "\n",
    "        for i in range(data.shape[0]):\n",
    "            data_i = data.loc[i, 'data'].strip().split()\n",
    "            m0.append(data_i[2])\n",
    "            m1.append(data_i[3])\n",
    "            m2.append(data_i[4])\n",
    "            theta0.append(data_i[5])\n",
    "            theta1.append(data_i[6])\n",
    "            theta2.append(data_i[7])\n",
    "            phi0.append(data_i[8])\n",
    "            phi1.append(data_i[9])\n",
    "            phi2.append(data_i[10])\n",
    "\n",
    "        data_dict = {\n",
    "            'm1': np.array(m0, dtype='float'),\n",
    "            'm2': np.array(m1, dtype='float'),\n",
    "            'm3': np.array(m2, dtype='float'),\n",
    "            'theta1': np.array(theta0, dtype='float'),\n",
    "            'theta2': np.array(theta1, dtype='float'),\n",
    "            'theta3': np.array(theta2, dtype='float'),\n",
    "            'phi1': np.array(phi0, dtype='float'),\n",
    "            'phi2': np.array(phi1, dtype='float'),\n",
    "            'phi3': np.array(phi2, dtype='float')\n",
    "        }\n",
    "        return pd.DataFrame(data_dict)\n",
    "\n",
    "\n",
    "    ### this function will initialize the interacting part of the hamiltonian\n",
    "    def intpart(self,df,mat,p):\n",
    "        \"\"\"\n",
    "        This function will use the equilibrated monte carlo configuration and generate\n",
    "        the hamiltonian. The non interacting part of the hamiltonian is already generated\n",
    "        and the same matrix will be used here\n",
    "        parameter:\n",
    "            self(object): instance of the class\n",
    "            df(dataframe): dataframe that is storing the monte carlo configurations\n",
    "            mat(matrix): non interacting hamiltonian matrix \n",
    "            p(integer): the monte carlo configuration that we want to use\n",
    "        return:\n",
    "            None\n",
    "        \"\"\"\n",
    "\n",
    "        ## mx = m0 * cos(phi) * sin(theta)\n",
    "        ## my = m0 * sin(phi) * sin(theta)\n",
    "        ## mz = m0 * cos(theta)\n",
    "\n",
    "        m_x = lambda x,y,z : x*np.cos(y) * np.sin(z)\n",
    "        m_y = lambda x,y,z : x*np.sin(y) * np.sin(z)\n",
    "        m_z = lambda x,y : x*np.cos(y) \n",
    "        \n",
    "        for j in range(self.n_cell):\n",
    "            s0 = j*self.s_cell; s1 = s0 + 1; s2 = s0 +2\n",
    "            s0n = s0 + (self.s_cell * n_cell); s1n = s0n + 1 ; s2n = s0n + 2\n",
    "            \n",
    "            ## slice corresponding to a sile\n",
    "            data_loc = df.iloc[(p*self.n_cell+j),:]\n",
    "            ### initialize the mx_i,my_i,mz_i for the hamiltonian\n",
    "            m_0 = data_loc[0] ; m_1 = data_loc[1];m_2 = data_loc[2]\n",
    "            theta_0 = data_loc[3];theta_1 = data_loc[4];theta_2 = data_loc[5]\n",
    "            phi_0 = data_loc[6];phi_1 = data_loc[7];phi_2 = data_loc[8]\n",
    "\n",
    "            m_x0 = m_x(m_0,phi_0,theta_0);m_x1 = m_x(m_1,phi_1,theta_1);m_x2 = m_x(m_2,phi_2,theta_2)\n",
    "            m_y0 = m_y(m_0, phi_0, theta_0);m_y1 = m_y(m_1, phi_1, theta_1);m_y2 = m_y(m_2,phi_2,theta_2)  \n",
    "            m_z0 = m_z(m_0,theta_0) ; m_z1 = m_z(m_1,theta_1) ; m_z2 = m_z(m_2,theta_2)\n",
    "            \n",
    "            ### diagonal part of the hamiltonian for the up spin\n",
    "            mat[s0,s0] = -0.5*self.u_int*m_z0 - (mu-1.5*self.u_int)\n",
    "            mat[s1, s1] = -0.5*self.u_int*m_z1 - (mu-1.5*self.u_int)\n",
    "            mat[s2, s2] = -0.5*self.u_int*m_z2 - (mu-1.5*self.u_int)\n",
    "\n",
    "            ### diagonal part of the hamiltonian for the down spin\n",
    "            mat[s0n, s0n] = 0.5*self.u_int*m_z0  - (mu-1.5*self.u_int)\n",
    "            mat[s1n,s1n] = 0.5*self.u_int*m_z1 - (mu-1.5*self.u_int)\n",
    "            mat[s2n,s2n] = 0.5*self.u_int*m_z2 - (mu-1.5*self.u_int)\n",
    "\n",
    "            ### off diagonal part of the hamiltonian between up,dn spin\n",
    "            mat[s0,s0n] = -0.5*self.u_int*(m_x0-1j*m_y0)\n",
    "            mat[s1,s1n] = -0.5*self.u_int*(m_x1-1j*m_y1)\n",
    "            mat[s2, s2n] = -0.5*self.u_int*(m_x2-1j*m_y2)\n",
    "\n",
    "            mat[s0n,s0] = -0.5*self.u_int*(m_x0+1j*m_y0)\n",
    "            mat[s1n,s1] = -0.5*self.u_int*(m_x0+1j*m_y0)\n",
    "            mat[s2n, s2] = -0.5*self.u_int*(m_x0+1j*m_y0)\n",
    "\n",
    "        return mat"
   ]
  },
  {
   "cell_type": "markdown",
   "metadata": {},
   "source": [
    "The total density $n = n_{\\uparrow} + n_{\\downarrow}$ can be calculated as follows,\n",
    "\\begin{equation}\n",
    "N = \\sum_{i,\\epsilon_{i}} \\mathcal{f}_{\\epsilon_{i},\\uparrow} |c_{i,\\uparrow}| ^{2} + \\mathcal{f}_{\\epsilon_{i},\\downarrow} |c_{i,\\downarrow}|^{2}.\n",
    "\\end{equation}\n",
    "Here $\\mathcal{f}_{\\epsilon_{i},\\downarrow}$ is the value of the fermi function for the eigenstate with eigenvalue $\\epsilon_{i}$ and is given by,\n",
    "\n",
    "\\begin{equation}\n",
    "\\mathcal{f}_{\\epsilon_{i},\\sigma} = \\frac{\\exp(-\\beta \\epsilon_{i,\\sigma})}{1+\\exp(-\\beta \\epsilon_{i,\\sigma})}\n",
    "\\end{equation}"
   ]
  },
  {
   "cell_type": "code",
   "execution_count": 177,
   "metadata": {},
   "outputs": [],
   "source": [
    "### this class contains the method and attribute to calculate the observables\n",
    "### One of the observable we will calculate is the total density\n",
    "class Observable(lattice):\n",
    "    \"\"\"\n",
    "    Class initializer.\n",
    "    \"\"\"\n",
    "    def __init__(self,temp,egval,egvec):\n",
    "        \"\"\"\n",
    "        This function will initialize the class or create an object of the type Observable\n",
    "        parameters:\n",
    "            temp(float): temperature for which we want to perform the calculation\n",
    "            egval(array): array containing all the eigenvalues\n",
    "            egvec(2d array): array containing all the eigenvectors of the system\n",
    "        \"\"\"\n",
    "        self.temp =  temp \n",
    "        self.egval = egval \n",
    "        self.egvec = egvec\n",
    "\n",
    "    ## using properties to get temp\n",
    "    #@property\n",
    "    #def temp(self):\n",
    "    #    self._temp\n",
    "\n",
    "    ## setting temp in case if temp changes all variables the depended on temp \n",
    "    ## should also change\n",
    "    #@temp.setter\n",
    "    #def temp(self,temp):\n",
    "    #    self._temp = temp    \n",
    "    \n",
    "    ## calculate the exponential of the product of beta and E\n",
    "    def fermiFunc(self):\n",
    "        \"\"\"\n",
    "        This function will calcualate the fermi function for a given temperature\n",
    "        parameters:\n",
    "            self(object): Instance of the class\n",
    "        return:\n",
    "            ff(array): array storing fermi function for all the energy values\n",
    "        \"\"\"\n",
    "        betaE = np.exp(-(1./self.temp)*self.egval)\n",
    "        \n",
    "        self.be = betaE\n",
    "\n",
    "    \n",
    "    def feCe(self,j):\n",
    "        \"\"\"\n",
    "        This function calculates the product of fermi function and the wavefunction \n",
    "        overlap f_{e}|C|^2\n",
    "        parameter:\n",
    "            self(object): instance of the class\n",
    "            j(int): energy for which we want to calculate the fermi function and wavefn\n",
    "                    overlap\n",
    "        return:\n",
    "            None\n",
    "        \"\"\"\n",
    "        psi  = self.egvec[:,j]\n",
    "        psi2up = np.conjugate(psi[:self.n_sites])*psi[:self.n_sites]\n",
    "        psi2dn = np.conjugate(psi[self.n_sites:])*psi[self.n_sites:]\n",
    "        self.nup = self.be[j]/(1+self.be[j])*psi2up\n",
    "        self.ndown = self.be[j+self.n_sites]/(1+self.be[j+n_sites])*psi2dn\n",
    "        self.n = self.nup.sum()  + self.ndown.sum()\n",
    "temp = 0.30       \n",
    "obs = Observable(temp,egval = evls,egvec = evcs)"
   ]
  },
  {
   "cell_type": "code",
   "execution_count": 228,
   "metadata": {},
   "outputs": [
    {
     "data": {
      "text/plain": [
       "(0.11975695525870285+0j)"
      ]
     },
     "execution_count": 228,
     "metadata": {},
     "output_type": "execute_result"
    }
   ],
   "source": [
    "\n",
    "obs.fermiFunc()\n",
    "obs.feCe(30)\n",
    "obs.nup.sum()\n"
   ]
  },
  {
   "cell_type": "code",
   "execution_count": 216,
   "metadata": {},
   "outputs": [
    {
     "data": {
      "text/plain": [
       "array([1.98082504, 1.98468898, 1.99168194, 1.99385422, 1.99513246,\n",
       "       2.00028274, 2.00478485, 2.00782171, 2.0109342 , 2.02277671,\n",
       "       2.02480197, 2.02910438, 2.04160584, 2.05505638, 2.05846176,\n",
       "       2.06133685, 2.07269744, 2.07766155, 2.08294341, 2.10073017,\n",
       "       2.10319638, 2.11534593, 2.11656654, 2.1669671 , 2.18686688,\n",
       "       2.21459921, 2.24461055])"
      ]
     },
     "execution_count": 216,
     "metadata": {},
     "output_type": "execute_result"
    }
   ],
   "source": [
    "evls[evls>=1.98]"
   ]
  },
  {
   "cell_type": "code",
   "execution_count": 218,
   "metadata": {},
   "outputs": [
    {
     "data": {
      "image/png": "[encoded data removed]",
      "text/plain": [
       "<Figure size 432x288 with 1 Axes>"
      ]
     },
     "metadata": {
      "needs_background": "light"
     },
     "output_type": "display_data"
    }
   ],
   "source": [
    "plt.hist(evls,bins=20)\n",
    "plt.show()"
   ]
  },
  {
   "cell_type": "code",
   "execution_count": 197,
   "metadata": {},
   "outputs": [],
   "source": [
    "obs.n_sites=144"
   ]
  },
  {
   "cell_type": "code",
   "execution_count": 176,
   "metadata": {},
   "outputs": [
    {
     "name": "stdout",
     "output_type": "stream",
     "text": [
      "None\n"
     ]
    }
   ],
   "source": [
    "print(obs.temp)"
   ]
  },
  {
   "cell_type": "code",
   "execution_count": 18,
   "metadata": {},
   "outputs": [],
   "source": [
    "l_cell = int(12)  # number of unit cell in x\n",
    "n_cell = int(l_cell**2)  # total number of unit cells\n",
    "s_cell = int(3)  # number of sites in the unit cell\n",
    "n_sites = int(s_cell*n_cell)  # total number of site (for one spin type)\n",
    "hopping = 1.0   # hopping strength\n",
    "dim_h = int(2*n_sites)  # dimensionality of the matrix\n",
    "mu = 13.5  # chemical potential\n",
    "u_int = 9.0  # interaction strength\n",
    "\n",
    "\n",
    "## file path were the files are stored\n",
    "file_path = './'\n",
    "## pattern we want to search in the file name\n",
    "pattern = f'mc*L{l_cell}*Uint{u_int}*.dat'\n",
    "#print(pattern)\n",
    "file_dict = files.getFiles(file_path,pattern)\n"
   ]
  },
  {
   "cell_type": "code",
   "execution_count": 19,
   "metadata": {},
   "outputs": [
    {
     "data": {
      "text/plain": [
       "{0.27: './mcconfigurations_L12_temp0.270000_Uint9.000_cluster4.dat',\n",
       " 0.02: './mcconfigurations_L12_temp0.020000_Uint9.000_cluster4.dat',\n",
       " 0.3: './mcconfigurations_L12_temp0.300000_Uint9.000_cluster4.dat',\n",
       " 0.06: './mcconfigurations_L12_temp0.060000_Uint9.000_cluster4.dat',\n",
       " 0.01: './mcconfigurations_L12_temp0.010000_Uint9.000_cluster4.dat'}"
      ]
     },
     "execution_count": 19,
     "metadata": {},
     "output_type": "execute_result"
    }
   ],
   "source": [
    "file_dict"
   ]
  },
  {
   "cell_type": "code",
   "execution_count": 3,
   "metadata": {},
   "outputs": [
    {
     "data": {
      "text/plain": [
       "'\\nl_cell = int(12) # number of unit cell in x\\nn_cell = int(l_cell**2) # total number of unit cells\\ns_cell  = int(3) # number of sites in the unit cell\\nn_sites = int(s_cell*n_cell) # total number of site (for one spin type)\\nhopping = 1.0   # hopping strength\\ndim_h = int(2*n_sites)  # dimensionality of the matrix\\nmu = 1.98  ## chemical potential\\nu_int = 1.0 ## interaction strength\\n\\nham2 = Hamiltonian(l_cell,n_cell,s_cell,hopping,n_sites,dim_h,mu,u_int)\\nham2.neighbour()\\n\\nham2.haminit()\\n\\nevl,evcs = ham2.diag()\\n'"
      ]
     },
     "execution_count": 3,
     "metadata": {},
     "output_type": "execute_result"
    }
   ],
   "source": [
    "### creating an instance of the hamiltonian class\n",
    "\"\"\"\n",
    "l_cell = int(12) # number of unit cell in x\n",
    "n_cell = int(l_cell**2) # total number of unit cells\n",
    "s_cell  = int(3) # number of sites in the unit cell\n",
    "n_sites = int(s_cell*n_cell) # total number of site (for one spin type)\n",
    "hopping = 1.0   # hopping strength\n",
    "dim_h = int(2*n_sites)  # dimensionality of the matrix\n",
    "mu = 1.98  ## chemical potential\n",
    "u_int = 1.0 ## interaction strength\n",
    "\n",
    "ham2 = Hamiltonian(l_cell,n_cell,s_cell,hopping,n_sites,dim_h,mu,u_int)\n",
    "ham2.neighbour()\n",
    "\n",
    "ham2.haminit()\n",
    "\n",
    "evl,evcs = ham2.diag()\n",
    "\"\"\""
   ]
  },
  {
   "cell_type": "code",
   "execution_count": 169,
   "metadata": {},
   "outputs": [
    {
     "name": "stdout",
     "output_type": "stream",
     "text": [
      "144 432\n"
     ]
    }
   ],
   "source": [
    "l_cell = int(12)  # number of unit cell in x\n",
    "n_cell = int(l_cell**2)  # total number of unit cells\n",
    "s_cell = int(3)  # number of sites in the unit cell\n",
    "n_sites = int(s_cell*n_cell)  # total number of site (for one spin type)\n",
    "hopping = 1.0   # hopping strength\n",
    "dim_h = int(2*n_sites)  # dimensionality of the matrix\n",
    "mu = 1.97  # chemical potential\n",
    "u_int = 1.0  # interaction strength\n",
    "\n",
    "\n",
    "\n",
    "\n",
    "## file path were the files are stored\n",
    "file_path = './'\n",
    "## pattern we want to search in the file name\n",
    "pattern = f'mc*L{l_cell}*Uint{u_int}*.dat'\n",
    "#print(pattern)\n",
    "\n",
    "\n",
    "## create instance of the class\n",
    "files = interaction(l_cell, n_cell, s_cell, hopping, n_sites, dim_h, mu, u_int,file_path,pattern)\n",
    "\n",
    "## get names of all the files in the location with the given pattern\n",
    "files.getFiles()\n",
    "\n",
    "\n",
    "files.data_dict\n",
    "temp = 0.30\n",
    "datadf = files.datadf(temp)\n",
    "datadf['temp'] = temp\n",
    "\n",
    "### setting up the non interacting hamiltonian\n",
    "files.neighbour() ## setting up the neighbour table\n",
    "files.haminit() ## initialize the hamiltonian\n",
    "\n",
    "\n",
    "### interacting part of the hamiltonian\n",
    "ans = []\n",
    "#temp_df = pd.DataFrame()\n",
    "for p in range(1):\n",
    "    mat = files.intpart(datadf, files.ham,p)\n",
    "    evls,evcs = lng.eigh(mat)\n",
    "    #temp_df = pd.concat([temp_df,pd.Series(evls)],axis=0)\n",
    "    temp_df = pd.Series(evls)\n",
    "    ei_temp = temp_df.describe()\n",
    "    ans.append(ei_temp[ei_temp.index == '50%'].values)\n",
    "\n",
    "\n"
   ]
  },
  {
   "cell_type": "code",
   "execution_count": 22,
   "metadata": {},
   "outputs": [
    {
     "data": {
      "image/png": "[encoded data removed]",
      "text/plain": [
       "<Figure size 432x432 with 1 Axes>"
      ]
     },
     "metadata": {
      "needs_background": "light"
     },
     "output_type": "display_data"
    }
   ],
   "source": [
    "f=plt.figure(figsize=(6,6))\n",
    "plt.hist(ans)\n",
    "plt.xlabel('E')\n",
    "plt.ylabel('H(E)')\n",
    "plt.title('L = 12 , T = 0.30 , U = 9')\n",
    "#plt.savefig('hist_esymmetric_L12_U9_Temp0p30.eps',dpi = 400,bbox_inches='tight')\n",
    "plt.show()\n"
   ]
  },
  {
   "cell_type": "code",
   "execution_count": 222,
   "metadata": {},
   "outputs": [
    {
     "data": {
      "image/png": "[encoded data removed]",
      "text/plain": [
       "<Figure size 432x288 with 1 Axes>"
      ]
     },
     "metadata": {
      "needs_background": "light"
     },
     "output_type": "display_data"
    }
   ],
   "source": [
    "plt.plot(evls,ff,label=0.01)\n",
    "#plt.plot(evls2[0::2],ff2[0::2],label='up')\n",
    "plt.plot(evls2[1::2],ff2[1::2],label='down')\n",
    "plt.axvline(x=1.97,color='')\n",
    "plt.legend()\n",
    "\n",
    "plt.show()\n"
   ]
  },
  {
   "cell_type": "code",
   "execution_count": 128,
   "metadata": {},
   "outputs": [],
   "source": [
    "\n",
    "\n"
   ]
  },
  {
   "cell_type": "code",
   "execution_count": 140,
   "metadata": {},
   "outputs": [
    {
     "data": {
      "text/plain": [
       "864"
      ]
     },
     "execution_count": 140,
     "metadata": {},
     "output_type": "execute_result"
    }
   ],
   "source": [
    "np.isclose(hpsi[0,:],epsi[0,:]).sum()"
   ]
  },
  {
   "cell_type": "code",
   "execution_count": 61,
   "metadata": {},
   "outputs": [],
   "source": [
    "class Add:\n",
    "    def __init__(self,a,b):\n",
    "        self.a = a \n",
    "        self.b = b\n",
    "\n",
    "    #@property \n",
    "    #def a(self):\n",
    "    #    return self._a\n",
    "    #@a.setter\n",
    "    #def a(self,a):\n",
    "    #    self._a = a\n",
    "\n",
    "    def add(self):\n",
    "        return self.a + self.b\n",
    "\n",
    "    def __str__(self):\n",
    "        return f'{self.a} is the first number and {self.b} is the second number'"
   ]
  },
  {
   "cell_type": "code",
   "execution_count": 62,
   "metadata": {},
   "outputs": [],
   "source": [
    "x = Add(1,2)"
   ]
  },
  {
   "cell_type": "code",
   "execution_count": 63,
   "metadata": {},
   "outputs": [
    {
     "name": "stdout",
     "output_type": "stream",
     "text": [
      "3\n"
     ]
    }
   ],
   "source": [
    "y = x.add()\n",
    "print(y)"
   ]
  },
  {
   "cell_type": "code",
   "execution_count": 64,
   "metadata": {},
   "outputs": [],
   "source": [
    "x.a = 3\n"
   ]
  },
  {
   "cell_type": "code",
   "execution_count": 65,
   "metadata": {},
   "outputs": [
    {
     "data": {
      "text/plain": [
       "5"
      ]
     },
     "execution_count": 65,
     "metadata": {},
     "output_type": "execute_result"
    }
   ],
   "source": [
    "x.add()"
   ]
  },
  {
   "cell_type": "code",
   "execution_count": 149,
   "metadata": {},
   "outputs": [
    {
     "data": {
      "text/plain": [
       "array([[1, 2, 3],\n",
       "       [4, 5, 6],\n",
       "       [7, 8, 9]])"
      ]
     },
     "execution_count": 149,
     "metadata": {},
     "output_type": "execute_result"
    }
   ],
   "source": [
    "x = np.array([[1,2,3],[4,5,6],[7,8,9]])\n",
    "x"
   ]
  },
  {
   "cell_type": "code",
   "execution_count": 152,
   "metadata": {},
   "outputs": [
    {
     "data": {
      "text/plain": [
       "array([[0.1, 0.2, 0.3],\n",
       "       [0.4, 0.5, 0.6],\n",
       "       [0.7, 0.8, 0.9]])"
      ]
     },
     "execution_count": 152,
     "metadata": {},
     "output_type": "execute_result"
    }
   ],
   "source": [
    "x*np.array([0.1])"
   ]
  },
  {
   "cell_type": "code",
   "execution_count": 153,
   "metadata": {},
   "outputs": [],
   "source": [
    "psi = np.array([1+1j,2-3j,4-0.5j])"
   ]
  },
  {
   "cell_type": "code",
   "execution_count": 155,
   "metadata": {},
   "outputs": [
    {
     "data": {
      "text/plain": [
       "array([ 2.  +0.j, 13.  +0.j, 16.25+0.j])"
      ]
     },
     "execution_count": 155,
     "metadata": {},
     "output_type": "execute_result"
    }
   ],
   "source": [
    "np.conjugate(psi)*psi"
   ]
  },
  {
   "cell_type": "code",
   "execution_count": null,
   "metadata": {},
   "outputs": [],
   "source": []
  }
 ],
 "metadata": {
  "interpreter": {
   "hash": "47b88c5e2a9ab33eee56cb1f27361770b8d297179cf0eb7fbe5f4a32a1ba153d"
  },
  "kernelspec": {
   "display_name": "Python 3.8.2 ('ml_env')",
   "language": "python",
   "name": "python3"
  },
  "language_info": {
   "codemirror_mode": {
    "name": "ipython",
    "version": 3
   },
   "file_extension": ".py",
   "mimetype": "text/x-python",
   "name": "python",
   "nbconvert_exporter": "python",
   "pygments_lexer": "ipython3",
   "version": "3.8.2"
  }
 },
 "nbformat": 4,
 "nbformat_minor": 4
}
