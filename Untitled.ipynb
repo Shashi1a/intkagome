{
 "cells": [
  {
   "cell_type": "code",
   "execution_count": 106,
   "metadata": {},
   "outputs": [],
   "source": [
    "import pandas as pd\n",
    "import numpy as np\n",
    "import matplotlib.pyplot as plt\n",
    "from numpy import linalg as lng\n",
    "import glob"
   ]
  },
  {
   "cell_type": "markdown",
   "metadata": {},
   "source": [
    "#### Non-interacting results\n",
    "In the non-interacting limit when $\\mu$ is not set. "
   ]
  },
  {
   "cell_type": "code",
   "execution_count": 133,
   "metadata": {},
   "outputs": [
    {
     "name": "stdout",
     "output_type": "stream",
     "text": [
      "['./mcconfigurations_L12_temp0.300000_Uint1.000_cluster4']\n"
     ]
    },
    {
     "ename": "IndexError",
     "evalue": "list index out of range",
     "output_type": "error",
     "traceback": [
      "\u001b[0;31m---------------------------------------------------------------------------\u001b[0m",
      "\u001b[0;31mIndexError\u001b[0m                                Traceback (most recent call last)",
      "\u001b[0;32m<ipython-input-133-76d8b27c7664>\u001b[0m in \u001b[0;36m<module>\u001b[0;34m\u001b[0m\n\u001b[1;32m      4\u001b[0m \u001b[0mdata\u001b[0m \u001b[0;34m=\u001b[0m \u001b[0mpd\u001b[0m\u001b[0;34m.\u001b[0m\u001b[0mread_csv\u001b[0m\u001b[0;34m(\u001b[0m\u001b[0mfilename\u001b[0m\u001b[0;34m[\u001b[0m\u001b[0;36m0\u001b[0m\u001b[0;34m]\u001b[0m\u001b[0;34m,\u001b[0m\u001b[0mheader\u001b[0m\u001b[0;34m=\u001b[0m\u001b[0;32mNone\u001b[0m\u001b[0;34m)\u001b[0m\u001b[0;34m\u001b[0m\u001b[0;34m\u001b[0m\u001b[0m\n\u001b[1;32m      5\u001b[0m \u001b[0mdata\u001b[0m\u001b[0;34m.\u001b[0m\u001b[0mcolumns\u001b[0m \u001b[0;34m=\u001b[0m \u001b[0;34m[\u001b[0m\u001b[0;34m'data'\u001b[0m\u001b[0;34m]\u001b[0m\u001b[0;34m\u001b[0m\u001b[0;34m\u001b[0m\u001b[0m\n\u001b[0;32m----> 6\u001b[0;31m \u001b[0mdata\u001b[0m\u001b[0;34m.\u001b[0m\u001b[0mloc\u001b[0m\u001b[0;34m[\u001b[0m\u001b[0;34m:\u001b[0m\u001b[0;34m,\u001b[0m\u001b[0;34m'data'\u001b[0m\u001b[0;34m]\u001b[0m\u001b[0;34m.\u001b[0m\u001b[0mstr\u001b[0m\u001b[0;34m.\u001b[0m\u001b[0msplit\u001b[0m\u001b[0;34m(\u001b[0m\u001b[0;34m' , '\u001b[0m\u001b[0;34m)\u001b[0m\u001b[0;34m[\u001b[0m\u001b[0;36m0\u001b[0m\u001b[0;34m]\u001b[0m\u001b[0;34m[\u001b[0m\u001b[0;36m1\u001b[0m\u001b[0;34m]\u001b[0m\u001b[0;34m\u001b[0m\u001b[0;34m\u001b[0m\u001b[0m\n\u001b[0m",
      "\u001b[0;31mIndexError\u001b[0m: list index out of range"
     ]
    }
   ],
   "source": [
    "filename = glob.glob('./mc*')\n",
    "print(filename)\n",
    "\n",
    "data = pd.read_csv(filename[0],header=None)\n",
    "data.columns = ['data']\n"
   ]
  },
  {
   "cell_type": "code",
   "execution_count": 128,
   "metadata": {},
   "outputs": [
    {
     "ename": "ValueError",
     "evalue": "too many values to unpack (expected 11)",
     "output_type": "error",
     "traceback": [
      "\u001b[0;31m---------------------------------------------------------------------------\u001b[0m",
      "\u001b[0;31mValueError\u001b[0m                                Traceback (most recent call last)",
      "\u001b[0;32m<ipython-input-128-9f1170679bbb>\u001b[0m in \u001b[0;36m<module>\u001b[0;34m\u001b[0m\n\u001b[0;32m----> 1\u001b[0;31m \u001b[0m_\u001b[0m\u001b[0;34m,\u001b[0m\u001b[0m_\u001b[0m\u001b[0;34m,\u001b[0m\u001b[0mm1\u001b[0m\u001b[0;34m,\u001b[0m\u001b[0mm2\u001b[0m\u001b[0;34m,\u001b[0m\u001b[0mm3\u001b[0m\u001b[0;34m,\u001b[0m\u001b[0mt1\u001b[0m\u001b[0;34m,\u001b[0m\u001b[0mt2\u001b[0m\u001b[0;34m,\u001b[0m\u001b[0mt3\u001b[0m\u001b[0;34m,\u001b[0m\u001b[0mp1\u001b[0m\u001b[0;34m,\u001b[0m\u001b[0mp2\u001b[0m\u001b[0;34m,\u001b[0m\u001b[0mp3\u001b[0m \u001b[0;34m=\u001b[0m \u001b[0mdata\u001b[0m\u001b[0;34m.\u001b[0m\u001b[0mloc\u001b[0m\u001b[0;34m[\u001b[0m\u001b[0;34m:\u001b[0m\u001b[0;34m,\u001b[0m\u001b[0;34m'data'\u001b[0m\u001b[0;34m]\u001b[0m\u001b[0;34m.\u001b[0m\u001b[0mstr\u001b[0m\u001b[0;34m.\u001b[0m\u001b[0msplit\u001b[0m\u001b[0;34m(\u001b[0m\u001b[0;34m' , '\u001b[0m\u001b[0;34m)\u001b[0m\u001b[0;34m\u001b[0m\u001b[0;34m\u001b[0m\u001b[0m\n\u001b[0m",
      "\u001b[0;31mValueError\u001b[0m: too many values to unpack (expected 11)"
     ]
    }
   ],
   "source": [
    "_,_,m1,m2,m3,t1,t2,t3,p1,p2,p3 = data.loc[:,'data'].str.split(' , ')"
   ]
  },
  {
   "cell_type": "markdown",
   "metadata": {},
   "source": [
    "Class definition to creat the hamiltonian matrix."
   ]
  },
  {
   "cell_type": "code",
   "execution_count": 55,
   "metadata": {},
   "outputs": [],
   "source": [
    "### class to define the hamiltonian\n",
    "class lattice:\n",
    "    def __init__(self, l_cell, n_cell,s_cell, hopping, n_sites,dim_h,mu,u_int):\n",
    "        '''\n",
    "        This function will initialize the object and set the\n",
    "        parameters:\n",
    "        parameters:\n",
    "            self(object): object\n",
    "            l_cell(int):  number of unit cell\n",
    "            n_cell(int): total number of unit cells\n",
    "            hopping(float): nn nearest neighbour hopping\n",
    "            n_sites(int): number of sites in the lattice\n",
    "            dim_h(int): dimensionality of the hamiltonian matrix\n",
    "            mu(float): chemical potential\n",
    "            u_int(float): interaction strength\n",
    "        '''\n",
    "        self.l_cell = l_cell\n",
    "        self.n_cell = n_cell\n",
    "        self.s_cell = s_cell\n",
    "        self.hopping = hopping\n",
    "        self.n_sites = n_sites\n",
    "        self.dim_h = dim_h\n",
    "        self.mu = mu\n",
    "        self.u_int = u_int\n",
    "\n",
    "    ## this function will create the square lattice for\n",
    "    ## the unit cells\n",
    "    def neighbour(self):\n",
    "        '''\n",
    "        This function will create the neighbour table with\n",
    "        periodic boundary conditions\n",
    "        parameters:\n",
    "            None\n",
    "        return:\n",
    "            None\n",
    "        '''\n",
    "        def sip(x): return (x+1) % self.l_cell\n",
    "        def sim(x): return (x-1+self.l_cell) % self.l_cell\n",
    "        ri, li, ui, di, rui, dli = [], [], [], [], [], []\n",
    "        for j in range(n_cell):\n",
    "            yi, xi = divmod(j, self.l_cell)\n",
    "            ri.append(sip(xi)+yi*self.l_cell)\n",
    "            li.append(sim(xi)+yi*self.l_cell)\n",
    "            ui.append(xi+sip(yi)*self.l_cell)\n",
    "            di.append(xi+sim(yi)*self.l_cell)\n",
    "            rui.append(sip(xi)+sip(yi)*self.l_cell)\n",
    "            dli.append(sim(xi)+sim(yi)*self.l_cell)\n",
    "        self.right = np.array(ri, dtype='int')\n",
    "        self.left = np.array(li, dtype='int')\n",
    "        self.up = np.array(ui, dtype='int')\n",
    "        self.down = np.array(di, dtype='int')\n",
    "        self.right_up = np.array(rui, dtype='int')\n",
    "        self.left_down = np.array(dli, dtype='int')\n"
   ]
  },
  {
   "cell_type": "code",
   "execution_count": 91,
   "metadata": {},
   "outputs": [],
   "source": [
    "## defining the class for the hamiltonian \n",
    "## it uses lattice as the parent class\n",
    "class Hamiltonian(lattice):\n",
    "    ## initializing the object\n",
    "    def __init(self,l_cell,n_cell,s_cell,hopping,n_sites,dim_h,mu,u_int):\n",
    "        \n",
    "        ## using init of the parent class\n",
    "        super(Hamiltonian, self).__init__(l_cell, n_cell, s_cell, hopping,n_sites, dim_h, mu, u_int)\n",
    "                                          \n",
    "        \n",
    "\n",
    "    ## construct the hamiltonian matrix\n",
    "    def hamunitcell(self):\n",
    "        '''\n",
    "        This function will initialize the elements of the matrix only within the unit cell.\n",
    "        Hopping outside the unit cells is not allowed\n",
    "        0-->1, 0-->2, 1-->0,1--->2, 2--->0, 2-->1\n",
    "        parameters:\n",
    "            self(object): An instance of the class\n",
    "        return :\n",
    "            hammat(matrix): the incomplete hamiltonian matrix\n",
    "        '''\n",
    "        hammat = np.zeros((self.dim_h,self.dim_h))\n",
    "\n",
    "        for i in range(self.n_cell):\n",
    "            si0 = int(self.s_cell*i) ; si0n = int(si0 + (self.s_cell*self.n_cell))\n",
    "            si1 = int(si0 + 1) ; si1n = int(si1 + (self.s_cell*self.n_cell))\n",
    "            si2 = int(si0+2) ; si2n = int(si2 + (self.s_cell*self.n_cell))\n",
    "            \n",
    "            #print(f'si0: {si0} si0n: {si0n}')\n",
    "            ## setting the bonds inside the unit cell\n",
    "            hammat[si0, si1] = -self.hopping # up spin\n",
    "            hammat[si0n, si1n] = -self.hopping # down spin\n",
    "            hammat[si0, si2] = -self.hopping  # up spin\n",
    "            hammat[si0n, si2n] = -self.hopping # down spin\n",
    "\n",
    "            hammat[si1,si0] = -self.hopping # up spin\n",
    "            hammat[si1n, si0n] = -self.hopping # down spin\n",
    "            hammat[si1n,si2n] = -self.hopping # up spin\n",
    "            hammat[si1n, si2n] = -self.hopping # down spin\n",
    "\n",
    "            hammat[si2, si0] = -self.hopping # up spin\n",
    "            hammat[si2n, si0n] = -self.hopping # down spin\n",
    "            hammat[si2, si1] = -self.hopping # up spin\n",
    "            hammat[si2n, si1n] = -self.hopping  # down spin\n",
    "\n",
    "        return hammat\n",
    "\n",
    "    ### initialize hopping outside the unit cells\n",
    "    def hamOutUnitCell(self,hammat):\n",
    "        '''\n",
    "        This function will initialize hopping outside the unit cells\n",
    "        parameters:\n",
    "            self(object): Instance of the class\n",
    "        return:\n",
    "            None\n",
    "        '''\n",
    "        print(self.n_cell,self.n_sites)\n",
    "        for i in range(self.n_cell):\n",
    "            \n",
    "            ## sites in a given unit cell\n",
    "            s0,s1,s2 = int(self.s_cell*i),int(self.s_cell*i)+1,int(self.s_cell*i)+2\n",
    "            s0n,s1n,s2n = s0+int(self.s_cell*self.n_cell),s1+int(self.s_cell*self.n_cell) , s2+int(self.s_cell*self.n_cell) \n",
    "            \n",
    "            ### right,left,up,down neighbours of the unitcell\n",
    "            ri, li, ui, di = int(self.right[i]), int(self.left[i]), int(self.up[i]), int(self.down[i])\n",
    "            \n",
    "            ## allowed neighbours of the site 0 of the unit cell\n",
    "            s0l = int(self.s_cell*li+1); s0ld = int(self.s_cell*self.left_down[i]+2)\n",
    "            s0ln = int(s0l+(self.n_cell*self.s_cell));s0ldn = int(s0ld + (self.n_cell*self.s_cell))\n",
    "\n",
    "            ## allowed neighbours of the site 1 of the unit cell\n",
    "            s1r = int(self.s_cell*ri); s1d = int(self.s_cell*di+2)\n",
    "            s1rn = int(s1r + (self.s_cell*self.n_cell)) ; s1dn = int(s1d + (self.s_cell*self.n_cell))\n",
    "\n",
    "            ## allowed neighbours of the site 2 of the unit cell\n",
    "            s2u = int(self.s_cell*ui+1); s2ur = int(self.s_cell*self.right_up[i])\n",
    "            s2un = int(s2u +(self.s_cell * self.n_cell)) ; s2urn = int(s2ur + (self.s_cell*self.n_cell))\n",
    "\n",
    "            ### setting up the bonds outside the unitcell\n",
    "            ## for the 1st site in the unitcell\n",
    "\n",
    "            hammat[s0,s0l] = -self.hopping; hammat[s0n,s0ln] = -self.hopping\n",
    "            hammat[s0l,s0] = -self.hopping ; hammat[s0ln,s0n] = -self.hopping\n",
    "\n",
    "            hammat[s0,s0ld] = -self.hopping ; hammat[s0n,s0ldn] = -self.hopping\n",
    "            hammat[s0ld,s0] = -self.hopping ; hammat[s0ldn,s0n] = -self.hopping\n",
    "\n",
    "            ## for the 2nd site in the unit cell\n",
    "            hammat[s1,s1r] = -self.hopping ; hammat[s1n,s1rn] = -self.hopping\n",
    "            hammat[s1r,s1] = -self.hopping ; hammat[s1rn,s1n] = -self.hopping\n",
    "\n",
    "            hammat[s1,s1d] = -self.hopping ; hammat[s1n,s1dn] = -self.hopping\n",
    "            hammat[s1d,s1] = -self.hopping ; hammat[s1dn,s1n]  = -self.hopping\n",
    "\n",
    "            ## for the 3rd site in the unit cell\n",
    "            hammat[s2,s2u] = -self.hopping  ; hammat[s2n,s2un] = -self.hopping\n",
    "            hammat[s2u,s2] = -self.hopping ; hammat[s2un,s2n]  = -self.hopping\n",
    "\n",
    "            hammat[s2,s2ur] = -self.hopping ; hammat[s2n,s2urn] = -self.hopping\n",
    "            hammat[s2ur,s2] = -self.hopping ; hammat[s2urn,s2n] = -self.hopping\n",
    "\n",
    "        self.ham = hammat\n",
    "\n",
    "    ### write the full hamiltonian\n",
    "    def haminit(self):\n",
    "        '''\n",
    "        This function will construct the full hamiltonian in two steps:\n",
    "        1. In first step it will sep up the hamiltonian for sites in the unit cell\n",
    "        2. In the second step the hopping outside the unit cell will be set up.\n",
    "        parameters:\n",
    "            self(object): The class instance\n",
    "        return:\n",
    "            None\n",
    "        '''\n",
    "        mat = self.hamunitcell()\n",
    "        self.hamOutUnitCell(mat)\n",
    "\n",
    "    ### diagonalize the hamiltonian\n",
    "    def diag(self):\n",
    "        '''\n",
    "        This function will diagonalize the hamiltonian\n",
    "        parameters:\n",
    "            self(object): Instance of the class\n",
    "        return:\n",
    "            evals (float): Eigenvalues of the hamiltonian\n",
    "            evecs(float): eigenvectors of the hamiltonian\n",
    "        '''\n",
    "        evals,evecs = lng.eigh(self.ham)\n",
    "        return evals,evecs\n",
    "\n"
   ]
  },
  {
   "cell_type": "code",
   "execution_count": 110,
   "metadata": {},
   "outputs": [],
   "source": [
    "l_cell = int(12) # number of unit cell in x\n",
    "n_cell = int(l_cell**2) # total number of unit cells\n",
    "s_cell  = int(3) # number of sites in the unit cell\n",
    "n_sites = int(s_cell*n_cell) # total number of site (for one spin type)\n",
    "hopping = 1.0   # hopping strength\n",
    "dim_h = int(2*n_sites)  # dimensionality of the matrix\n",
    "mu = 0.0  ## chemical potential\n",
    "u_int = 0.0 ## interaction strength"
   ]
  },
  {
   "cell_type": "code",
   "execution_count": 111,
   "metadata": {},
   "outputs": [
    {
     "name": "stdout",
     "output_type": "stream",
     "text": [
      "144 432\n"
     ]
    }
   ],
   "source": [
    "ham2 = Hamiltonian(l_cell,n_cell,s_cell,hopping,n_sites,dim_h,mu,u_int)\n",
    "ham2.neighbour()\n",
    "\n",
    "ham2.haminit()\n",
    "\n",
    "evl,evcs = ham2.diag()\n"
   ]
  },
  {
   "cell_type": "code",
   "execution_count": 112,
   "metadata": {},
   "outputs": [
    {
     "data": {
      "text/plain": [
       "-3.9999999999999996"
      ]
     },
     "execution_count": 112,
     "metadata": {},
     "output_type": "execute_result"
    }
   ],
   "source": [
    "evl.min()\n"
   ]
  },
  {
   "cell_type": "code",
   "execution_count": 113,
   "metadata": {},
   "outputs": [
    {
     "data": {
      "image/png": "[encoded data removed]",
      "text/plain": [
       "<Figure size 432x288 with 1 Axes>"
      ]
     },
     "metadata": {
      "needs_background": "light"
     },
     "output_type": "display_data"
    }
   ],
   "source": [
    "plt.hist(evl,bins=32,density=1)\n",
    "plt.show()\n"
   ]
  },
  {
   "cell_type": "code",
   "execution_count": 114,
   "metadata": {},
   "outputs": [
    {
     "data": {
      "text/plain": [
       "count    864.000000\n",
       "mean       0.000000\n",
       "std        2.001158\n",
       "min       -4.000000\n",
       "25%       -2.000000\n",
       "50%        0.505971\n",
       "75%        2.000000\n",
       "max        2.000000\n",
       "dtype: float64"
      ]
     },
     "execution_count": 114,
     "metadata": {},
     "output_type": "execute_result"
    }
   ],
   "source": [
    "pd.Series(evl).describe()"
   ]
  },
  {
   "cell_type": "code",
   "execution_count": null,
   "metadata": {},
   "outputs": [],
   "source": []
  }
 ],
 "metadata": {
  "interpreter": {
   "hash": "142c5f550c5dca9f67c8c920311c6ac8b8cbcb1ffb5f20302b2d142b28b10006"
  },
  "kernelspec": {
   "display_name": "Python 3.8.6 ('python38-demo-v2')",
   "language": "python",
   "name": "python3"
  },
  "language_info": {
   "codemirror_mode": {
    "name": "ipython",
    "version": 3
   },
   "file_extension": ".py",
   "mimetype": "text/x-python",
   "name": "python",
   "nbconvert_exporter": "python",
   "pygments_lexer": "ipython3",
   "version": "3.8.6"
  }
 },
 "nbformat": 4,
 "nbformat_minor": 4
}
